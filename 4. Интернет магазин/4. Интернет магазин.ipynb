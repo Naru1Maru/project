{
 "cells": [
  {
   "cell_type": "markdown",
   "metadata": {},
   "source": [
    "# Analysis of hypotheses to increase online store revenue"
   ]
  },
  {
   "cell_type": "markdown",
   "metadata": {},
   "source": [
    "# Table of Contents "
   ]
  },
  {
   "cell_type": "markdown",
   "metadata": {},
   "source": [
    "* [Introduction](#num1)\n",
    "* [Data description](#num2)\n",
    "* [1. Data loading and hypothesis prioritization](#num3)\n",
    "* [2. A/B test analysis](#num4)\n",
    "* [3. General conclusions](#num5)"
   ]
  },
  {
   "cell_type": "markdown",
   "metadata": {},
   "source": [
    "<a id=\"num1\"></a>\n",
    "## Introduction"
   ]
  },
  {
   "cell_type": "markdown",
   "metadata": {},
   "source": [
    "**Task** is to analyze the results of the A/B test.\n",
    "\n",
    "**Necessary:**\n",
    "1. Prioritize the hypotheses;\n",
    "2. Run the A/B test;\n",
    "3. Analyze the results."
   ]
  },
  {
   "cell_type": "markdown",
   "metadata": {},
   "source": [
    "<a id=\"num2\"></a>\n",
    "## Data description"
   ]
  },
  {
   "cell_type": "markdown",
   "metadata": {},
   "source": [
    "**1. File `hypothesis.csv`:** \n",
    "\n",
    "`Hypothesis` - a brief description of the hypothesis;\n",
    "\n",
    "`Reach` - reach of users on a 10-point scale;\n",
    "\n",
    "`Impact` - impact on users on a 10-point scale;\n",
    "\n",
    "`Confidence` - confidence in the hypothesis on a 10-point scale;\n",
    "\n",
    "`Efforts` - expenditure of resources to test the hypothesis on a 10-point scale. The greater the `Efforts` value, the more expensive the hypothesis testing.\n",
    "\n",
    "**2. File `orders.csv`:**\n",
    "\n",
    "`transactionId` - order identifier;\n",
    "\n",
    "`visitorId` - identifier of the user who made the order;\n",
    "\n",
    "`date` - date when the order was made;\n",
    "\n",
    "`revenue` - revenue of the order;\n",
    "\n",
    "`group` - A/B-test group the order fell into.\n",
    "\n",
    "**3. File `visitors.csv`:**\n",
    "\n",
    "`date` - date;\n",
    "\n",
    "`group` - A/B-test group;\n",
    "\n",
    "`visitors` - number of users on the specified date in the specified A/B-test group"
   ]
  },
  {
   "cell_type": "markdown",
   "metadata": {},
   "source": [
    "<a id=\"num3\"></a>\n",
    "## 1. Data loading and hypothesis prioritization"
   ]
  },
  {
   "cell_type": "code",
   "execution_count": 1,
   "metadata": {},
   "outputs": [],
   "source": [
    "# Importing necessary modules.\n",
    "import pandas as pd\n",
    "import datetime as dt\n",
    "import numpy as np\n",
    "import matplotlib.pyplot as plt\n",
    "from pandas.plotting import register_matplotlib_converters\n",
    "import warnings\n",
    "import scipy.stats as stats"
   ]
  },
  {
   "cell_type": "code",
   "execution_count": 2,
   "metadata": {},
   "outputs": [
    {
     "data": {
      "text/html": [
       "<div>\n",
       "<style scoped>\n",
       "    .dataframe tbody tr th:only-of-type {\n",
       "        vertical-align: middle;\n",
       "    }\n",
       "\n",
       "    .dataframe tbody tr th {\n",
       "        vertical-align: top;\n",
       "    }\n",
       "\n",
       "    .dataframe thead th {\n",
       "        text-align: right;\n",
       "    }\n",
       "</style>\n",
       "<table border=\"1\" class=\"dataframe\">\n",
       "  <thead>\n",
       "    <tr style=\"text-align: right;\">\n",
       "      <th></th>\n",
       "      <th>Hypothesis</th>\n",
       "      <th>Reach</th>\n",
       "      <th>Impact</th>\n",
       "      <th>Confidence</th>\n",
       "      <th>Efforts</th>\n",
       "    </tr>\n",
       "  </thead>\n",
       "  <tbody>\n",
       "    <tr>\n",
       "      <th>0</th>\n",
       "      <td>Добавить два новых канала привлечения трафика,...</td>\n",
       "      <td>3</td>\n",
       "      <td>10</td>\n",
       "      <td>8</td>\n",
       "      <td>6</td>\n",
       "    </tr>\n",
       "    <tr>\n",
       "      <th>1</th>\n",
       "      <td>Запустить собственную службу доставки, что сок...</td>\n",
       "      <td>2</td>\n",
       "      <td>5</td>\n",
       "      <td>4</td>\n",
       "      <td>10</td>\n",
       "    </tr>\n",
       "    <tr>\n",
       "      <th>2</th>\n",
       "      <td>Добавить блоки рекомендаций товаров на сайт ин...</td>\n",
       "      <td>8</td>\n",
       "      <td>3</td>\n",
       "      <td>7</td>\n",
       "      <td>3</td>\n",
       "    </tr>\n",
       "    <tr>\n",
       "      <th>3</th>\n",
       "      <td>Изменить структура категорий, что увеличит кон...</td>\n",
       "      <td>8</td>\n",
       "      <td>3</td>\n",
       "      <td>3</td>\n",
       "      <td>8</td>\n",
       "    </tr>\n",
       "    <tr>\n",
       "      <th>4</th>\n",
       "      <td>Изменить цвет фона главной страницы, чтобы уве...</td>\n",
       "      <td>3</td>\n",
       "      <td>1</td>\n",
       "      <td>1</td>\n",
       "      <td>1</td>\n",
       "    </tr>\n",
       "  </tbody>\n",
       "</table>\n",
       "</div>"
      ],
      "text/plain": [
       "                                          Hypothesis  Reach  Impact  \\\n",
       "0  Добавить два новых канала привлечения трафика,...      3      10   \n",
       "1  Запустить собственную службу доставки, что сок...      2       5   \n",
       "2  Добавить блоки рекомендаций товаров на сайт ин...      8       3   \n",
       "3  Изменить структура категорий, что увеличит кон...      8       3   \n",
       "4  Изменить цвет фона главной страницы, чтобы уве...      3       1   \n",
       "\n",
       "   Confidence  Efforts  \n",
       "0           8        6  \n",
       "1           4       10  \n",
       "2           7        3  \n",
       "3           3        8  \n",
       "4           1        1  "
      ]
     },
     "execution_count": 2,
     "metadata": {},
     "output_type": "execute_result"
    }
   ],
   "source": [
    "# Read hypothesis data file.\n",
    "data = pd.read_csv('hypothesis.csv', sep=',')\n",
    "data.head()"
   ]
  },
  {
   "cell_type": "markdown",
   "metadata": {},
   "source": [
    "**Apply the ICE framework to prioritize the hypotheses. Let's sort them in descending order of priority.**"
   ]
  },
  {
   "cell_type": "code",
   "execution_count": 3,
   "metadata": {},
   "outputs": [
    {
     "data": {
      "text/html": [
       "<div>\n",
       "<style scoped>\n",
       "    .dataframe tbody tr th:only-of-type {\n",
       "        vertical-align: middle;\n",
       "    }\n",
       "\n",
       "    .dataframe tbody tr th {\n",
       "        vertical-align: top;\n",
       "    }\n",
       "\n",
       "    .dataframe thead th {\n",
       "        text-align: right;\n",
       "    }\n",
       "</style>\n",
       "<table border=\"1\" class=\"dataframe\">\n",
       "  <thead>\n",
       "    <tr style=\"text-align: right;\">\n",
       "      <th></th>\n",
       "      <th>Hypothesis</th>\n",
       "      <th>ICE</th>\n",
       "    </tr>\n",
       "  </thead>\n",
       "  <tbody>\n",
       "    <tr>\n",
       "      <th>8</th>\n",
       "      <td>Запустить акцию, дающую скидку на товар в день рождения</td>\n",
       "      <td>16.20</td>\n",
       "    </tr>\n",
       "    <tr>\n",
       "      <th>0</th>\n",
       "      <td>Добавить два новых канала привлечения трафика, что позволит привлекать на 30% больше пользователей</td>\n",
       "      <td>13.33</td>\n",
       "    </tr>\n",
       "    <tr>\n",
       "      <th>7</th>\n",
       "      <td>Добавить форму подписки на все основные страницы, чтобы собрать базу клиентов для email-рассылок</td>\n",
       "      <td>11.20</td>\n",
       "    </tr>\n",
       "    <tr>\n",
       "      <th>6</th>\n",
       "      <td>Показать на главной странице баннеры с актуальными акциями и распродажами, чтобы увеличить конверсию</td>\n",
       "      <td>8.00</td>\n",
       "    </tr>\n",
       "    <tr>\n",
       "      <th>2</th>\n",
       "      <td>Добавить блоки рекомендаций товаров на сайт интернет магазина, чтобы повысить конверсию и средний чек заказа</td>\n",
       "      <td>7.00</td>\n",
       "    </tr>\n",
       "    <tr>\n",
       "      <th>1</th>\n",
       "      <td>Запустить собственную службу доставки, что сократит срок доставки заказов</td>\n",
       "      <td>2.00</td>\n",
       "    </tr>\n",
       "    <tr>\n",
       "      <th>5</th>\n",
       "      <td>Добавить страницу отзывов клиентов о магазине, что позволит увеличить количество заказов</td>\n",
       "      <td>1.33</td>\n",
       "    </tr>\n",
       "    <tr>\n",
       "      <th>3</th>\n",
       "      <td>Изменить структура категорий, что увеличит конверсию, т.к. пользователи быстрее найдут нужный товар</td>\n",
       "      <td>1.12</td>\n",
       "    </tr>\n",
       "    <tr>\n",
       "      <th>4</th>\n",
       "      <td>Изменить цвет фона главной страницы, чтобы увеличить вовлеченность пользователей</td>\n",
       "      <td>1.00</td>\n",
       "    </tr>\n",
       "  </tbody>\n",
       "</table>\n",
       "</div>"
      ],
      "text/plain": [
       "                                                                                                     Hypothesis  \\\n",
       "8                                                       Запустить акцию, дающую скидку на товар в день рождения   \n",
       "0            Добавить два новых канала привлечения трафика, что позволит привлекать на 30% больше пользователей   \n",
       "7              Добавить форму подписки на все основные страницы, чтобы собрать базу клиентов для email-рассылок   \n",
       "6          Показать на главной странице баннеры с актуальными акциями и распродажами, чтобы увеличить конверсию   \n",
       "2  Добавить блоки рекомендаций товаров на сайт интернет магазина, чтобы повысить конверсию и средний чек заказа   \n",
       "1                                     Запустить собственную службу доставки, что сократит срок доставки заказов   \n",
       "5                      Добавить страницу отзывов клиентов о магазине, что позволит увеличить количество заказов   \n",
       "3           Изменить структура категорий, что увеличит конверсию, т.к. пользователи быстрее найдут нужный товар   \n",
       "4                              Изменить цвет фона главной страницы, чтобы увеличить вовлеченность пользователей   \n",
       "\n",
       "     ICE  \n",
       "8  16.20  \n",
       "0  13.33  \n",
       "7  11.20  \n",
       "6   8.00  \n",
       "2   7.00  \n",
       "1   2.00  \n",
       "5   1.33  \n",
       "3   1.12  \n",
       "4   1.00  "
      ]
     },
     "execution_count": 3,
     "metadata": {},
     "output_type": "execute_result"
    }
   ],
   "source": [
    "# Let's apply the ICE framework to prioritize hypotheses.\n",
    "data['ICE'] = data['Impact']*data['Confidence']/data['Efforts']\n",
    "# Sort the hypotheses in descending order of priority.\n",
    "pd.set_option('max_colwidth', 200)\n",
    "data[['Hypothesis', 'ICE']].sort_values(by='ICE', ascending=False).round(2)"
   ]
  },
  {
   "cell_type": "markdown",
   "metadata": {},
   "source": [
    "**Apply the RICE framework to prioritize the hypotheses. Let's sort them in descending order of priority.**"
   ]
  },
  {
   "cell_type": "code",
   "execution_count": 4,
   "metadata": {},
   "outputs": [
    {
     "data": {
      "text/html": [
       "<div>\n",
       "<style scoped>\n",
       "    .dataframe tbody tr th:only-of-type {\n",
       "        vertical-align: middle;\n",
       "    }\n",
       "\n",
       "    .dataframe tbody tr th {\n",
       "        vertical-align: top;\n",
       "    }\n",
       "\n",
       "    .dataframe thead th {\n",
       "        text-align: right;\n",
       "    }\n",
       "</style>\n",
       "<table border=\"1\" class=\"dataframe\">\n",
       "  <thead>\n",
       "    <tr style=\"text-align: right;\">\n",
       "      <th></th>\n",
       "      <th>Hypothesis</th>\n",
       "      <th>RICE</th>\n",
       "    </tr>\n",
       "  </thead>\n",
       "  <tbody>\n",
       "    <tr>\n",
       "      <th>7</th>\n",
       "      <td>Добавить форму подписки на все основные страницы, чтобы собрать базу клиентов для email-рассылок</td>\n",
       "      <td>112.0</td>\n",
       "    </tr>\n",
       "    <tr>\n",
       "      <th>2</th>\n",
       "      <td>Добавить блоки рекомендаций товаров на сайт интернет магазина, чтобы повысить конверсию и средний чек заказа</td>\n",
       "      <td>56.0</td>\n",
       "    </tr>\n",
       "    <tr>\n",
       "      <th>0</th>\n",
       "      <td>Добавить два новых канала привлечения трафика, что позволит привлекать на 30% больше пользователей</td>\n",
       "      <td>40.0</td>\n",
       "    </tr>\n",
       "    <tr>\n",
       "      <th>6</th>\n",
       "      <td>Показать на главной странице баннеры с актуальными акциями и распродажами, чтобы увеличить конверсию</td>\n",
       "      <td>40.0</td>\n",
       "    </tr>\n",
       "    <tr>\n",
       "      <th>8</th>\n",
       "      <td>Запустить акцию, дающую скидку на товар в день рождения</td>\n",
       "      <td>16.2</td>\n",
       "    </tr>\n",
       "    <tr>\n",
       "      <th>3</th>\n",
       "      <td>Изменить структура категорий, что увеличит конверсию, т.к. пользователи быстрее найдут нужный товар</td>\n",
       "      <td>9.0</td>\n",
       "    </tr>\n",
       "    <tr>\n",
       "      <th>1</th>\n",
       "      <td>Запустить собственную службу доставки, что сократит срок доставки заказов</td>\n",
       "      <td>4.0</td>\n",
       "    </tr>\n",
       "    <tr>\n",
       "      <th>5</th>\n",
       "      <td>Добавить страницу отзывов клиентов о магазине, что позволит увеличить количество заказов</td>\n",
       "      <td>4.0</td>\n",
       "    </tr>\n",
       "    <tr>\n",
       "      <th>4</th>\n",
       "      <td>Изменить цвет фона главной страницы, чтобы увеличить вовлеченность пользователей</td>\n",
       "      <td>3.0</td>\n",
       "    </tr>\n",
       "  </tbody>\n",
       "</table>\n",
       "</div>"
      ],
      "text/plain": [
       "                                                                                                     Hypothesis  \\\n",
       "7              Добавить форму подписки на все основные страницы, чтобы собрать базу клиентов для email-рассылок   \n",
       "2  Добавить блоки рекомендаций товаров на сайт интернет магазина, чтобы повысить конверсию и средний чек заказа   \n",
       "0            Добавить два новых канала привлечения трафика, что позволит привлекать на 30% больше пользователей   \n",
       "6          Показать на главной странице баннеры с актуальными акциями и распродажами, чтобы увеличить конверсию   \n",
       "8                                                       Запустить акцию, дающую скидку на товар в день рождения   \n",
       "3           Изменить структура категорий, что увеличит конверсию, т.к. пользователи быстрее найдут нужный товар   \n",
       "1                                     Запустить собственную службу доставки, что сократит срок доставки заказов   \n",
       "5                      Добавить страницу отзывов клиентов о магазине, что позволит увеличить количество заказов   \n",
       "4                              Изменить цвет фона главной страницы, чтобы увеличить вовлеченность пользователей   \n",
       "\n",
       "    RICE  \n",
       "7  112.0  \n",
       "2   56.0  \n",
       "0   40.0  \n",
       "6   40.0  \n",
       "8   16.2  \n",
       "3    9.0  \n",
       "1    4.0  \n",
       "5    4.0  \n",
       "4    3.0  "
      ]
     },
     "execution_count": 4,
     "metadata": {},
     "output_type": "execute_result"
    }
   ],
   "source": [
    "# Let's apply the RICE framework to prioritize hypotheses. \n",
    "data['RICE'] = data['Reach']*data['Impact']*data['Confidence']/data['Efforts']\n",
    "# Let's sort the hypotheses in descending order of priority.\n",
    "data[['Hypothesis', 'RICE']].sort_values(by='RICE', ascending=False)"
   ]
  },
  {
   "cell_type": "markdown",
   "metadata": {},
   "source": [
    "**Let us point out how the prioritization of hypotheses changed when RICE instead of ICE was applied.**"
   ]
  },
  {
   "cell_type": "code",
   "execution_count": 5,
   "metadata": {},
   "outputs": [
    {
     "data": {
      "text/html": [
       "<div>\n",
       "<style scoped>\n",
       "    .dataframe tbody tr th:only-of-type {\n",
       "        vertical-align: middle;\n",
       "    }\n",
       "\n",
       "    .dataframe tbody tr th {\n",
       "        vertical-align: top;\n",
       "    }\n",
       "\n",
       "    .dataframe thead th {\n",
       "        text-align: right;\n",
       "    }\n",
       "</style>\n",
       "<table border=\"1\" class=\"dataframe\">\n",
       "  <thead>\n",
       "    <tr style=\"text-align: right;\">\n",
       "      <th></th>\n",
       "      <th>Hypothesis</th>\n",
       "      <th>Reach</th>\n",
       "      <th>Impact</th>\n",
       "      <th>Confidence</th>\n",
       "      <th>Efforts</th>\n",
       "      <th>ICE</th>\n",
       "      <th>RICE</th>\n",
       "    </tr>\n",
       "  </thead>\n",
       "  <tbody>\n",
       "    <tr>\n",
       "      <th>0</th>\n",
       "      <td>Добавить два новых канала привлечения трафика, что позволит привлекать на 30% больше пользователей</td>\n",
       "      <td>3</td>\n",
       "      <td>10</td>\n",
       "      <td>8</td>\n",
       "      <td>6</td>\n",
       "      <td>13.333333</td>\n",
       "      <td>40.0</td>\n",
       "    </tr>\n",
       "    <tr>\n",
       "      <th>1</th>\n",
       "      <td>Запустить собственную службу доставки, что сократит срок доставки заказов</td>\n",
       "      <td>2</td>\n",
       "      <td>5</td>\n",
       "      <td>4</td>\n",
       "      <td>10</td>\n",
       "      <td>2.000000</td>\n",
       "      <td>4.0</td>\n",
       "    </tr>\n",
       "    <tr>\n",
       "      <th>2</th>\n",
       "      <td>Добавить блоки рекомендаций товаров на сайт интернет магазина, чтобы повысить конверсию и средний чек заказа</td>\n",
       "      <td>8</td>\n",
       "      <td>3</td>\n",
       "      <td>7</td>\n",
       "      <td>3</td>\n",
       "      <td>7.000000</td>\n",
       "      <td>56.0</td>\n",
       "    </tr>\n",
       "    <tr>\n",
       "      <th>3</th>\n",
       "      <td>Изменить структура категорий, что увеличит конверсию, т.к. пользователи быстрее найдут нужный товар</td>\n",
       "      <td>8</td>\n",
       "      <td>3</td>\n",
       "      <td>3</td>\n",
       "      <td>8</td>\n",
       "      <td>1.125000</td>\n",
       "      <td>9.0</td>\n",
       "    </tr>\n",
       "    <tr>\n",
       "      <th>4</th>\n",
       "      <td>Изменить цвет фона главной страницы, чтобы увеличить вовлеченность пользователей</td>\n",
       "      <td>3</td>\n",
       "      <td>1</td>\n",
       "      <td>1</td>\n",
       "      <td>1</td>\n",
       "      <td>1.000000</td>\n",
       "      <td>3.0</td>\n",
       "    </tr>\n",
       "    <tr>\n",
       "      <th>5</th>\n",
       "      <td>Добавить страницу отзывов клиентов о магазине, что позволит увеличить количество заказов</td>\n",
       "      <td>3</td>\n",
       "      <td>2</td>\n",
       "      <td>2</td>\n",
       "      <td>3</td>\n",
       "      <td>1.333333</td>\n",
       "      <td>4.0</td>\n",
       "    </tr>\n",
       "    <tr>\n",
       "      <th>6</th>\n",
       "      <td>Показать на главной странице баннеры с актуальными акциями и распродажами, чтобы увеличить конверсию</td>\n",
       "      <td>5</td>\n",
       "      <td>3</td>\n",
       "      <td>8</td>\n",
       "      <td>3</td>\n",
       "      <td>8.000000</td>\n",
       "      <td>40.0</td>\n",
       "    </tr>\n",
       "    <tr>\n",
       "      <th>7</th>\n",
       "      <td>Добавить форму подписки на все основные страницы, чтобы собрать базу клиентов для email-рассылок</td>\n",
       "      <td>10</td>\n",
       "      <td>7</td>\n",
       "      <td>8</td>\n",
       "      <td>5</td>\n",
       "      <td>11.200000</td>\n",
       "      <td>112.0</td>\n",
       "    </tr>\n",
       "    <tr>\n",
       "      <th>8</th>\n",
       "      <td>Запустить акцию, дающую скидку на товар в день рождения</td>\n",
       "      <td>1</td>\n",
       "      <td>9</td>\n",
       "      <td>9</td>\n",
       "      <td>5</td>\n",
       "      <td>16.200000</td>\n",
       "      <td>16.2</td>\n",
       "    </tr>\n",
       "  </tbody>\n",
       "</table>\n",
       "</div>"
      ],
      "text/plain": [
       "                                                                                                     Hypothesis  \\\n",
       "0            Добавить два новых канала привлечения трафика, что позволит привлекать на 30% больше пользователей   \n",
       "1                                     Запустить собственную службу доставки, что сократит срок доставки заказов   \n",
       "2  Добавить блоки рекомендаций товаров на сайт интернет магазина, чтобы повысить конверсию и средний чек заказа   \n",
       "3           Изменить структура категорий, что увеличит конверсию, т.к. пользователи быстрее найдут нужный товар   \n",
       "4                              Изменить цвет фона главной страницы, чтобы увеличить вовлеченность пользователей   \n",
       "5                      Добавить страницу отзывов клиентов о магазине, что позволит увеличить количество заказов   \n",
       "6          Показать на главной странице баннеры с актуальными акциями и распродажами, чтобы увеличить конверсию   \n",
       "7              Добавить форму подписки на все основные страницы, чтобы собрать базу клиентов для email-рассылок   \n",
       "8                                                       Запустить акцию, дающую скидку на товар в день рождения   \n",
       "\n",
       "   Reach  Impact  Confidence  Efforts        ICE   RICE  \n",
       "0      3      10           8        6  13.333333   40.0  \n",
       "1      2       5           4       10   2.000000    4.0  \n",
       "2      8       3           7        3   7.000000   56.0  \n",
       "3      8       3           3        8   1.125000    9.0  \n",
       "4      3       1           1        1   1.000000    3.0  \n",
       "5      3       2           2        3   1.333333    4.0  \n",
       "6      5       3           8        3   8.000000   40.0  \n",
       "7     10       7           8        5  11.200000  112.0  \n",
       "8      1       9           9        5  16.200000   16.2  "
      ]
     },
     "execution_count": 5,
     "metadata": {},
     "output_type": "execute_result"
    }
   ],
   "source": [
    "# Let's check the Reach metric - user reach, to see what caused the hypothesis prioritization to change.\n",
    "data"
   ]
  },
  {
   "cell_type": "markdown",
   "metadata": {},
   "source": [
    "**Conclusion:** the prioritization of hypotheses changed when applying RICE instead of ICE because of the high value of Reach = 10 for hypothesis №7. The other hypotheses have lower value of this parameter. This means that hypothesis №7 affects the most users while hypothesis №8 affects the least users.\n",
    "\n",
    "**The most prioritized hypotheses are:**\n",
    "\n",
    "7 - Add a subscription form to all main pages to gather a customer base for email newsletters;\n",
    "    \n",
    "2 - Add product recommendation blocks to the website of the online store to increase conversion rate and average order check;\n",
    "\n",
    "0 - Add two new traffic channels to attract 30% more users."
   ]
  },
  {
   "cell_type": "markdown",
   "metadata": {},
   "source": [
    "<a id=\"num4\"></a>\n",
    "## 2. A/B test analysis"
   ]
  },
  {
   "cell_type": "markdown",
   "metadata": {},
   "source": [
    "**Examine the data and do the preprocessing.**"
   ]
  },
  {
   "cell_type": "code",
   "execution_count": 6,
   "metadata": {},
   "outputs": [
    {
     "data": {
      "text/html": [
       "<div>\n",
       "<style scoped>\n",
       "    .dataframe tbody tr th:only-of-type {\n",
       "        vertical-align: middle;\n",
       "    }\n",
       "\n",
       "    .dataframe tbody tr th {\n",
       "        vertical-align: top;\n",
       "    }\n",
       "\n",
       "    .dataframe thead th {\n",
       "        text-align: right;\n",
       "    }\n",
       "</style>\n",
       "<table border=\"1\" class=\"dataframe\">\n",
       "  <thead>\n",
       "    <tr style=\"text-align: right;\">\n",
       "      <th></th>\n",
       "      <th>transactionId</th>\n",
       "      <th>visitorId</th>\n",
       "      <th>date</th>\n",
       "      <th>revenue</th>\n",
       "      <th>group</th>\n",
       "    </tr>\n",
       "  </thead>\n",
       "  <tbody>\n",
       "    <tr>\n",
       "      <th>0</th>\n",
       "      <td>3667963787</td>\n",
       "      <td>3312258926</td>\n",
       "      <td>2019-08-15</td>\n",
       "      <td>1650</td>\n",
       "      <td>B</td>\n",
       "    </tr>\n",
       "    <tr>\n",
       "      <th>1</th>\n",
       "      <td>2804400009</td>\n",
       "      <td>3642806036</td>\n",
       "      <td>2019-08-15</td>\n",
       "      <td>730</td>\n",
       "      <td>B</td>\n",
       "    </tr>\n",
       "    <tr>\n",
       "      <th>2</th>\n",
       "      <td>2961555356</td>\n",
       "      <td>4069496402</td>\n",
       "      <td>2019-08-15</td>\n",
       "      <td>400</td>\n",
       "      <td>A</td>\n",
       "    </tr>\n",
       "    <tr>\n",
       "      <th>3</th>\n",
       "      <td>3797467345</td>\n",
       "      <td>1196621759</td>\n",
       "      <td>2019-08-15</td>\n",
       "      <td>9759</td>\n",
       "      <td>B</td>\n",
       "    </tr>\n",
       "    <tr>\n",
       "      <th>4</th>\n",
       "      <td>2282983706</td>\n",
       "      <td>2322279887</td>\n",
       "      <td>2019-08-15</td>\n",
       "      <td>2308</td>\n",
       "      <td>B</td>\n",
       "    </tr>\n",
       "  </tbody>\n",
       "</table>\n",
       "</div>"
      ],
      "text/plain": [
       "   transactionId   visitorId        date  revenue group\n",
       "0     3667963787  3312258926  2019-08-15     1650     B\n",
       "1     2804400009  3642806036  2019-08-15      730     B\n",
       "2     2961555356  4069496402  2019-08-15      400     A\n",
       "3     3797467345  1196621759  2019-08-15     9759     B\n",
       "4     2282983706  2322279887  2019-08-15     2308     B"
      ]
     },
     "execution_count": 6,
     "metadata": {},
     "output_type": "execute_result"
    }
   ],
   "source": [
    "# Examine order data.\n",
    "orders = pd.read_csv('orders.csv', sep=',')\n",
    "\n",
    "orders.head(5)"
   ]
  },
  {
   "cell_type": "code",
   "execution_count": 7,
   "metadata": {},
   "outputs": [
    {
     "name": "stdout",
     "output_type": "stream",
     "text": [
      "<class 'pandas.core.frame.DataFrame'>\n",
      "RangeIndex: 1197 entries, 0 to 1196\n",
      "Data columns (total 5 columns):\n",
      " #   Column         Non-Null Count  Dtype \n",
      "---  ------         --------------  ----- \n",
      " 0   transactionId  1197 non-null   int64 \n",
      " 1   visitorId      1197 non-null   int64 \n",
      " 2   date           1197 non-null   object\n",
      " 3   revenue        1197 non-null   int64 \n",
      " 4   group          1197 non-null   object\n",
      "dtypes: int64(3), object(2)\n",
      "memory usage: 46.9+ KB\n"
     ]
    }
   ],
   "source": [
    "orders.info()"
   ]
  },
  {
   "cell_type": "code",
   "execution_count": 8,
   "metadata": {},
   "outputs": [
    {
     "data": {
      "text/html": [
       "<div>\n",
       "<style scoped>\n",
       "    .dataframe tbody tr th:only-of-type {\n",
       "        vertical-align: middle;\n",
       "    }\n",
       "\n",
       "    .dataframe tbody tr th {\n",
       "        vertical-align: top;\n",
       "    }\n",
       "\n",
       "    .dataframe thead th {\n",
       "        text-align: right;\n",
       "    }\n",
       "</style>\n",
       "<table border=\"1\" class=\"dataframe\">\n",
       "  <thead>\n",
       "    <tr style=\"text-align: right;\">\n",
       "      <th></th>\n",
       "      <th>date</th>\n",
       "      <th>group</th>\n",
       "      <th>visitors</th>\n",
       "    </tr>\n",
       "  </thead>\n",
       "  <tbody>\n",
       "    <tr>\n",
       "      <th>0</th>\n",
       "      <td>2019-08-01</td>\n",
       "      <td>A</td>\n",
       "      <td>719</td>\n",
       "    </tr>\n",
       "    <tr>\n",
       "      <th>1</th>\n",
       "      <td>2019-08-02</td>\n",
       "      <td>A</td>\n",
       "      <td>619</td>\n",
       "    </tr>\n",
       "    <tr>\n",
       "      <th>2</th>\n",
       "      <td>2019-08-03</td>\n",
       "      <td>A</td>\n",
       "      <td>507</td>\n",
       "    </tr>\n",
       "    <tr>\n",
       "      <th>3</th>\n",
       "      <td>2019-08-04</td>\n",
       "      <td>A</td>\n",
       "      <td>717</td>\n",
       "    </tr>\n",
       "    <tr>\n",
       "      <th>4</th>\n",
       "      <td>2019-08-05</td>\n",
       "      <td>A</td>\n",
       "      <td>756</td>\n",
       "    </tr>\n",
       "  </tbody>\n",
       "</table>\n",
       "</div>"
      ],
      "text/plain": [
       "         date group  visitors\n",
       "0  2019-08-01     A       719\n",
       "1  2019-08-02     A       619\n",
       "2  2019-08-03     A       507\n",
       "3  2019-08-04     A       717\n",
       "4  2019-08-05     A       756"
      ]
     },
     "execution_count": 8,
     "metadata": {},
     "output_type": "execute_result"
    }
   ],
   "source": [
    "# Explore visitor data.\n",
    "visitors = pd.read_csv('visitors.csv', sep=',')\n",
    "\n",
    "visitors.head(5)"
   ]
  },
  {
   "cell_type": "code",
   "execution_count": 9,
   "metadata": {},
   "outputs": [
    {
     "name": "stdout",
     "output_type": "stream",
     "text": [
      "<class 'pandas.core.frame.DataFrame'>\n",
      "RangeIndex: 62 entries, 0 to 61\n",
      "Data columns (total 3 columns):\n",
      " #   Column    Non-Null Count  Dtype \n",
      "---  ------    --------------  ----- \n",
      " 0   date      62 non-null     object\n",
      " 1   group     62 non-null     object\n",
      " 2   visitors  62 non-null     int64 \n",
      "dtypes: int64(1), object(2)\n",
      "memory usage: 1.6+ KB\n"
     ]
    }
   ],
   "source": [
    "visitors.info()"
   ]
  },
  {
   "cell_type": "code",
   "execution_count": 10,
   "metadata": {},
   "outputs": [
    {
     "data": {
      "text/plain": [
       "transactionId    0\n",
       "visitorId        0\n",
       "date             0\n",
       "revenue          0\n",
       "group            0\n",
       "dtype: int64"
      ]
     },
     "execution_count": 10,
     "metadata": {},
     "output_type": "execute_result"
    }
   ],
   "source": [
    "# Check for gaps in the orders dataframe.\n",
    "orders.isna().sum()"
   ]
  },
  {
   "cell_type": "code",
   "execution_count": 11,
   "metadata": {},
   "outputs": [
    {
     "data": {
      "text/plain": [
       "date        0\n",
       "group       0\n",
       "visitors    0\n",
       "dtype: int64"
      ]
     },
     "execution_count": 11,
     "metadata": {},
     "output_type": "execute_result"
    }
   ],
   "source": [
    "# Check for gaps in the visitors dataframe.\n",
    "visitors.isna().sum()"
   ]
  },
  {
   "cell_type": "code",
   "execution_count": 12,
   "metadata": {},
   "outputs": [
    {
     "data": {
      "text/html": [
       "<div>\n",
       "<style scoped>\n",
       "    .dataframe tbody tr th:only-of-type {\n",
       "        vertical-align: middle;\n",
       "    }\n",
       "\n",
       "    .dataframe tbody tr th {\n",
       "        vertical-align: top;\n",
       "    }\n",
       "\n",
       "    .dataframe thead th {\n",
       "        text-align: right;\n",
       "    }\n",
       "</style>\n",
       "<table border=\"1\" class=\"dataframe\">\n",
       "  <thead>\n",
       "    <tr style=\"text-align: right;\">\n",
       "      <th></th>\n",
       "      <th>transactionId</th>\n",
       "      <th>visitorId</th>\n",
       "      <th>date</th>\n",
       "      <th>revenue</th>\n",
       "      <th>group</th>\n",
       "    </tr>\n",
       "  </thead>\n",
       "  <tbody>\n",
       "  </tbody>\n",
       "</table>\n",
       "</div>"
      ],
      "text/plain": [
       "Empty DataFrame\n",
       "Columns: [transactionId, visitorId, date, revenue, group]\n",
       "Index: []"
      ]
     },
     "execution_count": 12,
     "metadata": {},
     "output_type": "execute_result"
    }
   ],
   "source": [
    "# Check for duplicates in the orders dataframe.\n",
    "orders[orders.duplicated()]"
   ]
  },
  {
   "cell_type": "code",
   "execution_count": 13,
   "metadata": {},
   "outputs": [
    {
     "data": {
      "text/html": [
       "<div>\n",
       "<style scoped>\n",
       "    .dataframe tbody tr th:only-of-type {\n",
       "        vertical-align: middle;\n",
       "    }\n",
       "\n",
       "    .dataframe tbody tr th {\n",
       "        vertical-align: top;\n",
       "    }\n",
       "\n",
       "    .dataframe thead th {\n",
       "        text-align: right;\n",
       "    }\n",
       "</style>\n",
       "<table border=\"1\" class=\"dataframe\">\n",
       "  <thead>\n",
       "    <tr style=\"text-align: right;\">\n",
       "      <th></th>\n",
       "      <th>date</th>\n",
       "      <th>group</th>\n",
       "      <th>visitors</th>\n",
       "    </tr>\n",
       "  </thead>\n",
       "  <tbody>\n",
       "  </tbody>\n",
       "</table>\n",
       "</div>"
      ],
      "text/plain": [
       "Empty DataFrame\n",
       "Columns: [date, group, visitors]\n",
       "Index: []"
      ]
     },
     "execution_count": 13,
     "metadata": {},
     "output_type": "execute_result"
    }
   ],
   "source": [
    "# Check for duplicates in the visitors dataframe.\n",
    "visitors[visitors.duplicated()]"
   ]
  },
  {
   "cell_type": "code",
   "execution_count": 14,
   "metadata": {},
   "outputs": [],
   "source": [
    "orders['date'] = orders['date'].map(lambda x: dt.datetime.strptime(x, '%Y-%m-%d'))\n",
    "visitors['date'] = visitors['date'].map(lambda x: dt.datetime.strptime(x, '%Y-%m-%d'))"
   ]
  },
  {
   "cell_type": "markdown",
   "metadata": {},
   "source": [
    "**Perform a check to see if any users fall into both groups - by table with orders.**"
   ]
  },
  {
   "cell_type": "code",
   "execution_count": 15,
   "metadata": {},
   "outputs": [],
   "source": [
    "a = orders['visitorId'][orders['group']=='A'].unique()\n",
    "b = orders['visitorId'][orders['group']=='B'].unique()"
   ]
  },
  {
   "cell_type": "code",
   "execution_count": 16,
   "metadata": {},
   "outputs": [
    {
     "data": {
      "text/plain": [
       "58"
      ]
     },
     "execution_count": 16,
     "metadata": {},
     "output_type": "execute_result"
    }
   ],
   "source": [
    "len(np.intersect1d(a,b))"
   ]
  },
  {
   "cell_type": "code",
   "execution_count": 17,
   "metadata": {},
   "outputs": [
    {
     "data": {
      "text/plain": [
       "586"
      ]
     },
     "execution_count": 17,
     "metadata": {},
     "output_type": "execute_result"
    }
   ],
   "source": [
    "len(b)"
   ]
  },
  {
   "cell_type": "markdown",
   "metadata": {},
   "source": [
    "**Conclusion:** There are 58 users in the data that fall into both groups. This is almost 10% of all unique users, which is quite a lot. It is a good idea to remove these users to avoid bias in the data when analyzing."
   ]
  },
  {
   "cell_type": "code",
   "execution_count": 18,
   "metadata": {},
   "outputs": [],
   "source": [
    "# Create an array of unique date and test group value pairs.\n",
    "datesGroups = orders[['date','group']].drop_duplicates()\n",
    "\n",
    "# Collect cumulative daily aggregated order data.\n",
    "ordersAggregated = datesGroups.apply(lambda x: orders[np.logical_and(orders['date'] <= x['date'], \n",
    "                                     orders['group'] == x['group'])].\n",
    "                                     agg({'date' : 'max', \n",
    "                                          'group' : 'max', \n",
    "                                          'transactionId' : 'nunique', \n",
    "                                          'visitorId' : 'nunique', \n",
    "                                          'revenue' : 'sum'}), \n",
    "                                     axis=1).sort_values(by=['date','group'])"
   ]
  },
  {
   "cell_type": "code",
   "execution_count": 19,
   "metadata": {},
   "outputs": [],
   "source": [
    "# Let's collect cumulative day-by-day aggregated visitor data.\n",
    "visitorsAggregated = datesGroups.apply(lambda x: visitors[np.logical_and(visitors['date'] <= x['date'], \n",
    "                                       visitors['group'] == x['group'])].\n",
    "                                       agg({'date' : 'max', \n",
    "                                            'group' : 'max', \n",
    "                                            'visitors' : 'sum'}), \n",
    "                                       axis=1).sort_values(by=['date','group'])"
   ]
  },
  {
   "cell_type": "code",
   "execution_count": 20,
   "metadata": {},
   "outputs": [
    {
     "name": "stdout",
     "output_type": "stream",
     "text": [
      "        date group  orders  buyers  revenue  visitors\n",
      "0 2019-08-01     A      24      20   148579       719\n",
      "1 2019-08-01     B      21      20   101217       713\n",
      "2 2019-08-02     A      44      38   242401      1338\n",
      "3 2019-08-02     B      45      43   266748      1294\n",
      "4 2019-08-03     A      68      62   354874      1845\n"
     ]
    }
   ],
   "source": [
    "# Merge tables into one.\n",
    "cumulativeData = ordersAggregated.merge(visitorsAggregated, \n",
    "                                        left_on=['date', 'group'], \n",
    "                                        right_on=['date', 'group'])\n",
    "\n",
    "cumulativeData.columns = ['date', 'group', 'orders', 'buyers', 'revenue', 'visitors']\n",
    "\n",
    "print(cumulativeData.head(5))"
   ]
  },
  {
   "cell_type": "markdown",
   "metadata": {},
   "source": [
    "**Let's check if the cumulativeData dataframe was created correctly. Whether the minimum and maximum dates in this dataframe coincide with the minimum and maximum dates in the source data.**"
   ]
  },
  {
   "cell_type": "code",
   "execution_count": 21,
   "metadata": {},
   "outputs": [
    {
     "data": {
      "text/plain": [
       "Timestamp('2019-08-31 00:00:00')"
      ]
     },
     "execution_count": 21,
     "metadata": {},
     "output_type": "execute_result"
    }
   ],
   "source": [
    "cumulativeData['date'].max()"
   ]
  },
  {
   "cell_type": "code",
   "execution_count": 22,
   "metadata": {},
   "outputs": [
    {
     "data": {
      "text/plain": [
       "Timestamp('2019-08-31 00:00:00')"
      ]
     },
     "execution_count": 22,
     "metadata": {},
     "output_type": "execute_result"
    }
   ],
   "source": [
    "orders['date'].max()"
   ]
  },
  {
   "cell_type": "code",
   "execution_count": 23,
   "metadata": {},
   "outputs": [
    {
     "data": {
      "text/plain": [
       "Timestamp('2019-08-01 00:00:00')"
      ]
     },
     "execution_count": 23,
     "metadata": {},
     "output_type": "execute_result"
    }
   ],
   "source": [
    "cumulativeData['date'].min()"
   ]
  },
  {
   "cell_type": "code",
   "execution_count": 24,
   "metadata": {},
   "outputs": [
    {
     "data": {
      "text/plain": [
       "Timestamp('2019-08-01 00:00:00')"
      ]
     },
     "execution_count": 24,
     "metadata": {},
     "output_type": "execute_result"
    }
   ],
   "source": [
    "orders['date'].min()"
   ]
  },
  {
   "cell_type": "markdown",
   "metadata": {},
   "source": [
    "**Conclusion:** the data matches. "
   ]
  },
  {
   "cell_type": "markdown",
   "metadata": {},
   "source": [
    "**1. Let's plot the cumulative revenue by group.**"
   ]
  },
  {
   "cell_type": "code",
   "execution_count": 25,
   "metadata": {},
   "outputs": [],
   "source": [
    "# Dataframe with cumulative number of orders and cumulative revenue by day in group A.\n",
    "cumulativeRevenueA = cumulativeData[cumulativeData['group']=='A'][['date', 'revenue', 'orders']]\n",
    "\n",
    "# Dataframe with cumulative number of orders and cumulative revenue by day in group B.\n",
    "cumulativeRevenueB = cumulativeData[cumulativeData['group']=='B'][['date','revenue', 'orders']]"
   ]
  },
  {
   "cell_type": "code",
   "execution_count": 26,
   "metadata": {},
   "outputs": [
    {
     "data": {
      "image/png": "[encoded data removed]",
      "text/plain": [
       "<Figure size 1500x600 with 1 Axes>"
      ]
     },
     "metadata": {},
     "output_type": "display_data"
    }
   ],
   "source": [
    "fig = plt.figure(figsize=(15,6))\n",
    "\n",
    "# Plot the revenue of group A.\n",
    "plt.plot(cumulativeRevenueA['date'], cumulativeRevenueA['revenue'], label='A')\n",
    "\n",
    "# Plot group B revenue.\n",
    "plt.plot(cumulativeRevenueB['date'], cumulativeRevenueB['revenue'], label='B')\n",
    "\n",
    "\n",
    "plt.title(\"Graph of revenue by group\")\n",
    "fig.autofmt_xdate()\n",
    "plt.legend() \n",
    "plt.xlabel(\"Date\")\n",
    "plt.ylabel(\"Revenue\")\n",
    "plt.show()"
   ]
  },
  {
   "cell_type": "markdown",
   "metadata": {},
   "source": [
    "**Conclusion:** Revenue increases evenly, but there is a noticeable sharp rise from 18th to 19th in group B. This could be due to the large number of orders or due to very expensive orders during this period."
   ]
  },
  {
   "cell_type": "markdown",
   "metadata": {},
   "source": [
    "**2. Let's plot the cumulative average check by group.**"
   ]
  },
  {
   "cell_type": "code",
   "execution_count": 27,
   "metadata": {},
   "outputs": [
    {
     "data": {
      "image/png": "[encoded data removed]",
      "text/plain": [
       "<Figure size 1500x600 with 1 Axes>"
      ]
     },
     "metadata": {},
     "output_type": "display_data"
    }
   ],
   "source": [
    "fig = plt.figure(figsize=(15,6))\n",
    "\n",
    "# Plot the average check of group A.\n",
    "plt.plot(cumulativeRevenueA['date'], cumulativeRevenueA['revenue']/cumulativeRevenueA['orders'], label='A')\n",
    "\n",
    "# Plot the average check of group B.\n",
    "plt.plot(cumulativeRevenueB['date'], cumulativeRevenueB['revenue']/cumulativeRevenueB['orders'], label='B')\n",
    "\n",
    "plt.title(\"Graph of average check by group\")\n",
    "plt.legend() \n",
    "fig.autofmt_xdate()\n",
    "plt.xlabel(\"Date\")\n",
    "plt.ylabel(\"Average Check\")\n",
    "plt.show()"
   ]
  },
  {
   "cell_type": "markdown",
   "metadata": {},
   "source": [
    "**Conclusion:** there was also a sharp increase in the average check in Group B between the 18th and 19th. It is too early to take regressions on this metric and additional analysis is required to analyze the outliers that may be skewing the results."
   ]
  },
  {
   "cell_type": "markdown",
   "metadata": {},
   "source": [
    "**3. Let's plot the relative change in the cumulative average check of group B to group A.**"
   ]
  },
  {
   "cell_type": "code",
   "execution_count": 28,
   "metadata": {},
   "outputs": [
    {
     "data": {
      "image/png": "[encoded data removed]",
      "text/plain": [
       "<Figure size 1500x600 with 1 Axes>"
      ]
     },
     "metadata": {},
     "output_type": "display_data"
    }
   ],
   "source": [
    "fig = plt.figure(figsize=(15,6))\n",
    "\n",
    "# Collect data in a single dataframe.\n",
    "mergedCumulativeRevenue = cumulativeRevenueA.merge(cumulativeRevenueB, left_on='date', right_on='date', how='left', suffixes=['A', 'B'])\n",
    "\n",
    "# Plot the ratio of average checks.\n",
    "plt.rcParams['figure.figsize'] = [15, 7]\n",
    "plt.plot(mergedCumulativeRevenue['date'], (mergedCumulativeRevenue['revenueB']/mergedCumulativeRevenue['ordersB'])/(mergedCumulativeRevenue['revenueA']/mergedCumulativeRevenue['ordersA'])-1, label=\"Changes in cumulative average check of group B to group A.\")\n",
    "plt.legend()\n",
    "\n",
    "plt.axhline(y=0, color='black', linestyle='--') \n",
    "plt.title(\"Graph of relative change in cumulative average check by group\")\n",
    "fig.autofmt_xdate()\n",
    "plt.xlabel(\"Date\")\n",
    "plt.ylabel(\"Relative change in average check by group\")\n",
    "plt.show()"
   ]
  },
  {
   "cell_type": "markdown",
   "metadata": {},
   "source": [
    "**Conclusion:** as you can see on the graph, the test results changed dramatically on several dates. Most likely, these are the dates when abnormal orders were made."
   ]
  },
  {
   "cell_type": "markdown",
   "metadata": {},
   "source": [
    "**4. Let's plot the cumulative average number of orders per visitor by group.**"
   ]
  },
  {
   "cell_type": "code",
   "execution_count": 29,
   "metadata": {},
   "outputs": [
    {
     "data": {
      "image/png": "[encoded data removed]",
      "text/plain": [
       "<Figure size 1500x600 with 1 Axes>"
      ]
     },
     "metadata": {},
     "output_type": "display_data"
    }
   ],
   "source": [
    "# Calculate cumulative conversion.\n",
    "cumulativeData['conversion'] = cumulativeData['orders']/cumulativeData['visitors']\n",
    "\n",
    "# Separate group A data.\n",
    "cumulativeDataA = cumulativeData[cumulativeData['group']=='A']\n",
    "\n",
    "# Separate group B data.\n",
    "cumulativeDataB = cumulativeData[cumulativeData['group']=='B']\n",
    "\n",
    "# Plot the graphs\n",
    "fig = plt.figure(figsize=(15,6))\n",
    "plt.plot(cumulativeDataA['date'], cumulativeDataA['conversion'], label='A')\n",
    "plt.plot(cumulativeDataB['date'], cumulativeDataB['conversion'], label='B')\n",
    "plt.legend()\n",
    "plt.title(\"Graph of cumulative average orders per visitor by group\")\n",
    "fig.autofmt_xdate()\n",
    "plt.xlabel(\"Date\")\n",
    "plt.ylabel(\"Cumulative average number of orders by group\")\n",
    "plt.show()\n"
   ]
  },
  {
   "cell_type": "markdown",
   "metadata": {},
   "source": [
    "**Conclusion:** at the beginning of the test group A had a higher cumulative average of orders per visitor, but over time group B leveled off and took values higher than group A. "
   ]
  },
  {
   "cell_type": "markdown",
   "metadata": {},
   "source": [
    "**5. plot the relative change in the cumulative average number of orders per visitor from group B to group A.**"
   ]
  },
  {
   "cell_type": "code",
   "execution_count": 30,
   "metadata": {},
   "outputs": [
    {
     "data": {
      "image/png": "[encoded data removed]",
      "text/plain": [
       "<Figure size 1500x600 with 1 Axes>"
      ]
     },
     "metadata": {},
     "output_type": "display_data"
    }
   ],
   "source": [
    "# Collect data in a single dataframe.\n",
    "mergedCumulativeConversions = cumulativeDataA[['date','conversion']].merge(cumulativeDataB[['date','conversion']], left_on='date', right_on='date', how='left', suffixes=['A', 'B'])\n",
    "\n",
    "# Plot the ratio of average orders per visitor.\n",
    "fig = plt.figure(figsize=(15,6))\n",
    "plt.plot(mergedCumulativeConversions['date'], mergedCumulativeConversions['conversionB']/mergedCumulativeConversions['conversionA']-1, \n",
    "         label=\"Relative cumulative conversion gain of group B relative to group A\")\n",
    "plt.legend()\n",
    "\n",
    "plt.axhline(y=0, color='black', linestyle='--')\n",
    "plt.axhline(y=0.15, color='grey', linestyle='--')\n",
    "plt.title(\"Graph of relative cumulative change in the average number of orders per visitor by group\")\n",
    "fig.autofmt_xdate()\n",
    "plt.xlabel(\"Date\")\n",
    "plt.ylabel(\"Relative cumulative change in average number of orders by group\")\n",
    "plt.show()"
   ]
  },
  {
   "cell_type": "markdown",
   "metadata": {},
   "source": [
    "**Conclusion:** At the beginning of the test, group B was lower in terms of cumulative change in the average number of orders per visitor, but over time it increased and remained at the same level on average."
   ]
  },
  {
   "cell_type": "markdown",
   "metadata": {},
   "source": [
    "**6. Let's build a dot plot of the number of orders by users**"
   ]
  },
  {
   "cell_type": "code",
   "execution_count": 31,
   "metadata": {},
   "outputs": [
    {
     "data": {
      "image/png": "[encoded data removed]",
      "text/plain": [
       "<Figure size 1500x600 with 1 Axes>"
      ]
     },
     "metadata": {},
     "output_type": "display_data"
    }
   ],
   "source": [
    "# Count the number of orders by user.\n",
    "ordersByUsers = (\n",
    "    orders.groupby('visitorId', as_index=False)\n",
    "    .agg({'transactionId': 'nunique'})\n",
    ")\n",
    "\n",
    "ordersByUsers.columns = ['visitorId', 'orders']\n",
    "\n",
    "# Let's build a dot plot of the number of orders per user.\n",
    "plt.rcParams['figure.figsize'] = [15, 6]\n",
    "x_values = pd.Series(range(0, len(ordersByUsers)))\n",
    "plt.scatter(x_values, ordersByUsers['orders']) \n",
    "plt.title(\"Chart of number of orders by users\")\n",
    "plt.xlabel(\"User\")\n",
    "plt.ylabel(\"Number of orders\")\n",
    "plt.show()"
   ]
  },
  {
   "cell_type": "code",
   "execution_count": 32,
   "metadata": {},
   "outputs": [
    {
     "data": {
      "image/png": "[encoded data removed]",
      "text/plain": [
       "<Figure size 1500x600 with 1 Axes>"
      ]
     },
     "metadata": {},
     "output_type": "display_data"
    }
   ],
   "source": [
    "# Let's build a histogram of the distribution of the number of orders per user.\n",
    "plt.hist(ordersByUsers['orders'], label=\"Number of orders per 1 user\")\n",
    "plt.rcParams['figure.figsize'] = [15, 7]\n",
    "plt.title('Graph of distribution of the number of orders per 1 user')\n",
    "plt.grid(which='major')\n",
    "plt.legend()\n",
    "plt.xlabel(\"Number of orders\")\n",
    "plt.ylabel(\"Number of users\")\n",
    "plt.show()"
   ]
  },
  {
   "cell_type": "markdown",
   "metadata": {},
   "source": [
    "**Conclusion:** Mostly customers made 1-2 orders, but there are customers who made more orders."
   ]
  },
  {
   "cell_type": "markdown",
   "metadata": {},
   "source": [
    "**7. Let's calculate the 95th and 99th percentiles of the number of orders per user. Let's choose a boundary to define abnormal users.**"
   ]
  },
  {
   "cell_type": "code",
   "execution_count": 33,
   "metadata": {},
   "outputs": [
    {
     "data": {
      "text/plain": [
       "array([2., 3., 4.])"
      ]
     },
     "execution_count": 33,
     "metadata": {},
     "output_type": "execute_result"
    }
   ],
   "source": [
    "np.percentile(ordersByUsers['orders'], [95, 98, 99])"
   ]
  },
  {
   "cell_type": "code",
   "execution_count": 34,
   "metadata": {},
   "outputs": [
    {
     "data": {
      "text/plain": [
       "3.0"
      ]
     },
     "execution_count": 34,
     "metadata": {},
     "output_type": "execute_result"
    }
   ],
   "source": [
    "per_orders = np.round(np.percentile(ordersByUsers['orders'], [98])[0])\n",
    "per_orders"
   ]
  },
  {
   "cell_type": "markdown",
   "metadata": {},
   "source": [
    "**Conclusion:** 5% of users made more than 2 orders and 1% of users made more than 4 orders. \n",
    "\n",
    "Let's choose the value of 3 orders as the boundary for defining abnormal users."
   ]
  },
  {
   "cell_type": "markdown",
   "metadata": {},
   "source": [
    "**8. Let's construct a dot plot of order values.**"
   ]
  },
  {
   "cell_type": "code",
   "execution_count": 35,
   "metadata": {},
   "outputs": [
    {
     "data": {
      "image/png": "[encoded data removed]",
      "text/plain": [
       "<Figure size 1500x700 with 1 Axes>"
      ]
     },
     "metadata": {},
     "output_type": "display_data"
    }
   ],
   "source": [
    "# Build a dot plot of the number of orders per user.\n",
    "x_values = pd.Series(range(0,len(orders['revenue'])))\n",
    "plt.rcParams['figure.figsize'] = [15, 7]\n",
    "plt.scatter(x_values, orders['revenue']) \n",
    "plt.title('Chart of order values')\n",
    "plt.xlabel(\"User\")\n",
    "plt.ylabel(\"Order Value\")\n",
    "plt.show()"
   ]
  },
  {
   "cell_type": "code",
   "execution_count": 36,
   "metadata": {},
   "outputs": [
    {
     "data": {
      "image/png": "[encoded data removed]",
      "text/plain": [
       "<Figure size 1500x700 with 1 Axes>"
      ]
     },
     "metadata": {},
     "output_type": "display_data"
    }
   ],
   "source": [
    "x_values = pd.Series(range(0,len(orders['revenue'])))\n",
    "plt.rcParams['figure.figsize'] = [15, 7]\n",
    "plt.scatter(x_values, orders['revenue']) \n",
    "plt.title(\"Chart of the bulk of order values\")\n",
    "plt.xlabel(\"User\")\n",
    "plt.ylabel(\"Order Value\")\n",
    "plt.ylim([0, 100000])\n",
    "plt.show()"
   ]
  },
  {
   "cell_type": "code",
   "execution_count": 37,
   "metadata": {},
   "outputs": [
    {
     "data": {
      "image/png": "[encoded data removed]",
      "text/plain": [
       "<Figure size 1500x700 with 1 Axes>"
      ]
     },
     "metadata": {},
     "output_type": "display_data"
    }
   ],
   "source": [
    "# Let's build a histogram of the distribution of the number of orders per user.\n",
    "a = orders['revenue'].median()\n",
    "\n",
    "plt.hist(orders['revenue'], bins = 100, range = (0, 100000), label=\"Cost of orders per user\")\n",
    "plt.rcParams['figure.figsize'] = [15, 7]\n",
    "plt.axvline(x=a, color='black', linestyle='--')\n",
    "\n",
    "plt.title('Graph of distribution of order values per 1 user')\n",
    "plt.grid(which='major')\n",
    "plt.legend()\n",
    "plt.xlabel('Order value')\n",
    "plt.ylabel(\"Number of users\")\n",
    "plt.show()"
   ]
  },
  {
   "cell_type": "code",
   "execution_count": 38,
   "metadata": {},
   "outputs": [
    {
     "data": {
      "text/plain": [
       "2978.0"
      ]
     },
     "execution_count": 38,
     "metadata": {},
     "output_type": "execute_result"
    }
   ],
   "source": [
    "orders['revenue'].median()"
   ]
  },
  {
   "cell_type": "markdown",
   "metadata": {},
   "source": [
    "**Conclusion:** The graphs show that there are orders more expensive than 20,000 USD. Also, there are abnormal orders for 200,000 and 1,200,000 USD."
   ]
  },
  {
   "cell_type": "markdown",
   "metadata": {},
   "source": [
    "**9. Let's calculate the 95th and 99th percentiles of order value.**"
   ]
  },
  {
   "cell_type": "code",
   "execution_count": 39,
   "metadata": {},
   "outputs": [
    {
     "data": {
      "text/plain": [
       "array([28000. , 31382. , 58233.2])"
      ]
     },
     "execution_count": 39,
     "metadata": {},
     "output_type": "execute_result"
    }
   ],
   "source": [
    "np.percentile(orders['revenue'], [95, 96, 99])"
   ]
  },
  {
   "cell_type": "code",
   "execution_count": 40,
   "metadata": {},
   "outputs": [
    {
     "data": {
      "text/plain": [
       "31382.0"
      ]
     },
     "execution_count": 40,
     "metadata": {},
     "output_type": "execute_result"
    }
   ],
   "source": [
    "per_revenue = np.round(np.percentile(orders['revenue'], [96])[0])\n",
    "per_revenue"
   ]
  },
  {
   "cell_type": "markdown",
   "metadata": {},
   "source": [
    "**Findings:** 5% of customers made orders of more than 28,000 USD and 1% of customers made orders of more than 58,233 USD. \n",
    "\n",
    "Let's choose the value of 31 382 as the boundary for identifying abnormal users."
   ]
  },
  {
   "cell_type": "markdown",
   "metadata": {},
   "source": [
    "**10. Let's calculate the statistical significance of differences in the average number of orders per visitor between groups using \"raw\" data.**"
   ]
  },
  {
   "cell_type": "markdown",
   "metadata": {},
   "source": [
    "**State the hypotheses.**\n",
    "\n",
    "**Null hypothesis:** There are **no** statistically *significant differences* in the average number of orders between groups on raw data.\n",
    "\n",
    "**Alternative hypothesis:** There are statistically *significant differences* in the average number of orders between groups on the raw data.\n",
    "\n",
    "Since our data contain outliers, we use the non-parametric Wilcoxon-Mann-Whitney test. The smaller the value of the criterion, the more likely that the differences between the values of the parameter in the samples are reliable. \n",
    "\n",
    "a = 0.05. \n",
    "\n",
    "If P-value =< 0.05 the null hypothesis is rejected. \n",
    "                   \n",
    "If P-value > 0.05 the null hypothesis is accepted."
   ]
  },
  {
   "cell_type": "code",
   "execution_count": 41,
   "metadata": {},
   "outputs": [],
   "source": [
    "# Create a dataframe with visitors by day in group A.\n",
    "visitorsADaily = visitors[visitors['group'] == 'A'][['date', 'visitors']]\n",
    "# Rename the columns\n",
    "visitorsADaily.columns = ['date', 'visitorsPerDateA']\n",
    "\n",
    "# Collect cumulative daily data on the number of visitors in group A.\n",
    "visitorsACummulative = visitorsADaily.apply(\n",
    "    lambda x: visitorsADaily[visitorsADaily['date'] <= x['date']].agg(\n",
    "        {'date': 'max', 'visitorsPerDateA': 'sum'}\n",
    "    ),\n",
    "    axis=1,\n",
    ")\n",
    "# Rename the columns.\n",
    "visitorsACummulative.columns = ['date', 'visitorsCummulativeA']"
   ]
  },
  {
   "cell_type": "code",
   "execution_count": 42,
   "metadata": {},
   "outputs": [],
   "source": [
    "# Create a dataframe with visitors by day in group B.\n",
    "visitorsBDaily = visitors[visitors['group'] == 'B'][['date', 'visitors']]\n",
    "# Rename the columns\n",
    "visitorsBDaily.columns = ['date', 'visitorsPerDateB']\n",
    "\n",
    "# Collect cumulative daily data on the number of users in group B.\n",
    "visitorsBCummulative = visitorsBDaily.apply(\n",
    "    lambda x: visitorsBDaily[visitorsBDaily['date'] <= x['date']].agg(\n",
    "        {'date': 'max', 'visitorsPerDateB': 'sum'}\n",
    "    ),\n",
    "    axis=1,\n",
    ")\n",
    "# Rename the columns.\n",
    "visitorsBCummulative.columns = ['date', 'visitorsCummulativeB']"
   ]
  },
  {
   "cell_type": "code",
   "execution_count": 43,
   "metadata": {},
   "outputs": [],
   "source": [
    "# Collect data on the number of orders, total revenue by day in group A\n",
    "ordersADaily = (\n",
    "    orders[orders['group'] == 'A'][['date', 'transactionId', 'visitorId', 'revenue']]\n",
    "    .groupby('date', as_index=False)\n",
    "    .agg({'transactionId': pd.Series.nunique, 'revenue': 'sum'})\n",
    ")\n",
    "# Переименовываем столбцы\n",
    "ordersADaily.columns = ['date', 'ordersPerDateA', 'revenuePerDateA']\n",
    "\n",
    "# Collect data on the commulative number of orders, total revenue by day in group A\n",
    "ordersACummulative = ordersADaily.apply(\n",
    "    lambda x: ordersADaily[ordersADaily['date'] <= x['date']].agg(\n",
    "        {'date': 'max', 'ordersPerDateA': 'sum', 'revenuePerDateA': 'sum'}\n",
    "    ),\n",
    "    axis=1,\n",
    ").sort_values(by=['date'])\n",
    "# Rename the columns\n",
    "ordersACummulative.columns = [\n",
    "    'date',\n",
    "    'ordersCummulativeA',\n",
    "    'revenueCummulativeA',\n",
    "]"
   ]
  },
  {
   "cell_type": "code",
   "execution_count": 44,
   "metadata": {},
   "outputs": [],
   "source": [
    "# Gather data on the number of orders, cumulative revenue by day in group B.\n",
    "ordersBDaily = (\n",
    "    orders[orders['group'] == 'B'][['date', 'transactionId', 'visitorId', 'revenue']]\n",
    "    .groupby('date', as_index=False)\n",
    "    .agg({'transactionId': pd.Series.nunique, 'revenue': 'sum'})\n",
    ")\n",
    "# Rename the columns.\n",
    "ordersBDaily.columns = ['date', 'ordersPerDateB', 'revenuePerDateB']\n",
    "\n",
    "\n",
    "# Collect data on the commulative number of orders, total revenue by day in group B.\n",
    "ordersBCummulative = ordersBDaily.apply(\n",
    "    lambda x: ordersBDaily[ordersBDaily['date'] <= x['date']].agg(\n",
    "        {'date': 'max', 'ordersPerDateB': 'sum', 'revenuePerDateB': 'sum'}\n",
    "    ),\n",
    "    axis=1,\n",
    ").sort_values(by=['date'])\n",
    "# Rename the columns.\n",
    "ordersBCummulative.columns = [\n",
    "    'date',\n",
    "    'ordersCummulativeB',\n",
    "    'revenueCummulativeB',\n",
    "]"
   ]
  },
  {
   "cell_type": "code",
   "execution_count": 45,
   "metadata": {},
   "outputs": [
    {
     "data": {
      "text/html": [
       "<div>\n",
       "<style scoped>\n",
       "    .dataframe tbody tr th:only-of-type {\n",
       "        vertical-align: middle;\n",
       "    }\n",
       "\n",
       "    .dataframe tbody tr th {\n",
       "        vertical-align: top;\n",
       "    }\n",
       "\n",
       "    .dataframe thead th {\n",
       "        text-align: right;\n",
       "    }\n",
       "</style>\n",
       "<table border=\"1\" class=\"dataframe\">\n",
       "  <thead>\n",
       "    <tr style=\"text-align: right;\">\n",
       "      <th></th>\n",
       "      <th>date</th>\n",
       "      <th>ordersPerDateA</th>\n",
       "      <th>revenuePerDateA</th>\n",
       "      <th>ordersPerDateB</th>\n",
       "      <th>revenuePerDateB</th>\n",
       "      <th>ordersCummulativeA</th>\n",
       "      <th>revenueCummulativeA</th>\n",
       "      <th>ordersCummulativeB</th>\n",
       "      <th>revenueCummulativeB</th>\n",
       "      <th>visitorsPerDateA</th>\n",
       "      <th>visitorsPerDateB</th>\n",
       "      <th>visitorsCummulativeA</th>\n",
       "      <th>visitorsCummulativeB</th>\n",
       "    </tr>\n",
       "  </thead>\n",
       "  <tbody>\n",
       "    <tr>\n",
       "      <th>0</th>\n",
       "      <td>2019-08-01</td>\n",
       "      <td>24</td>\n",
       "      <td>148579</td>\n",
       "      <td>21</td>\n",
       "      <td>101217</td>\n",
       "      <td>24</td>\n",
       "      <td>148579</td>\n",
       "      <td>21</td>\n",
       "      <td>101217</td>\n",
       "      <td>719</td>\n",
       "      <td>713</td>\n",
       "      <td>719</td>\n",
       "      <td>713</td>\n",
       "    </tr>\n",
       "    <tr>\n",
       "      <th>1</th>\n",
       "      <td>2019-08-02</td>\n",
       "      <td>20</td>\n",
       "      <td>93822</td>\n",
       "      <td>24</td>\n",
       "      <td>165531</td>\n",
       "      <td>44</td>\n",
       "      <td>242401</td>\n",
       "      <td>45</td>\n",
       "      <td>266748</td>\n",
       "      <td>619</td>\n",
       "      <td>581</td>\n",
       "      <td>1338</td>\n",
       "      <td>1294</td>\n",
       "    </tr>\n",
       "    <tr>\n",
       "      <th>2</th>\n",
       "      <td>2019-08-03</td>\n",
       "      <td>24</td>\n",
       "      <td>112473</td>\n",
       "      <td>16</td>\n",
       "      <td>114248</td>\n",
       "      <td>68</td>\n",
       "      <td>354874</td>\n",
       "      <td>61</td>\n",
       "      <td>380996</td>\n",
       "      <td>507</td>\n",
       "      <td>509</td>\n",
       "      <td>1845</td>\n",
       "      <td>1803</td>\n",
       "    </tr>\n",
       "    <tr>\n",
       "      <th>3</th>\n",
       "      <td>2019-08-04</td>\n",
       "      <td>16</td>\n",
       "      <td>70825</td>\n",
       "      <td>17</td>\n",
       "      <td>108571</td>\n",
       "      <td>84</td>\n",
       "      <td>425699</td>\n",
       "      <td>78</td>\n",
       "      <td>489567</td>\n",
       "      <td>717</td>\n",
       "      <td>770</td>\n",
       "      <td>2562</td>\n",
       "      <td>2573</td>\n",
       "    </tr>\n",
       "    <tr>\n",
       "      <th>4</th>\n",
       "      <td>2019-08-05</td>\n",
       "      <td>25</td>\n",
       "      <td>124218</td>\n",
       "      <td>23</td>\n",
       "      <td>92428</td>\n",
       "      <td>109</td>\n",
       "      <td>549917</td>\n",
       "      <td>101</td>\n",
       "      <td>581995</td>\n",
       "      <td>756</td>\n",
       "      <td>707</td>\n",
       "      <td>3318</td>\n",
       "      <td>3280</td>\n",
       "    </tr>\n",
       "  </tbody>\n",
       "</table>\n",
       "</div>"
      ],
      "text/plain": [
       "        date  ordersPerDateA  revenuePerDateA  ordersPerDateB  \\\n",
       "0 2019-08-01              24           148579              21   \n",
       "1 2019-08-02              20            93822              24   \n",
       "2 2019-08-03              24           112473              16   \n",
       "3 2019-08-04              16            70825              17   \n",
       "4 2019-08-05              25           124218              23   \n",
       "\n",
       "   revenuePerDateB  ordersCummulativeA  revenueCummulativeA  \\\n",
       "0           101217                  24               148579   \n",
       "1           165531                  44               242401   \n",
       "2           114248                  68               354874   \n",
       "3           108571                  84               425699   \n",
       "4            92428                 109               549917   \n",
       "\n",
       "   ordersCummulativeB  revenueCummulativeB  visitorsPerDateA  \\\n",
       "0                  21               101217               719   \n",
       "1                  45               266748               619   \n",
       "2                  61               380996               507   \n",
       "3                  78               489567               717   \n",
       "4                 101               581995               756   \n",
       "\n",
       "   visitorsPerDateB  visitorsCummulativeA  visitorsCummulativeB  \n",
       "0               713                   719                   713  \n",
       "1               581                  1338                  1294  \n",
       "2               509                  1845                  1803  \n",
       "3               770                  2562                  2573  \n",
       "4               707                  3318                  3280  "
      ]
     },
     "execution_count": 45,
     "metadata": {},
     "output_type": "execute_result"
    }
   ],
   "source": [
    "# Combine the received data into one dataframe.\n",
    "data = (\n",
    "    ordersADaily.merge(\n",
    "        ordersBDaily, left_on='date', right_on='date', how='left'\n",
    "    )\n",
    "    .merge(ordersACummulative, left_on='date', right_on='date', how='left')\n",
    "    .merge(ordersBCummulative, left_on='date', right_on='date', how='left')\n",
    "    .merge(visitorsADaily, left_on='date', right_on='date', how='left')\n",
    "    .merge(visitorsBDaily, left_on='date', right_on='date', how='left')\n",
    "    .merge(visitorsACummulative, left_on='date', right_on='date', how='left')\n",
    "    .merge(visitorsBCummulative, left_on='date', right_on='date', how='left')\n",
    ")\n",
    "\n",
    "data.head(5)"
   ]
  },
  {
   "cell_type": "markdown",
   "metadata": {},
   "source": [
    "**The table consists of:**\n",
    "\n",
    "`date` - date;\n",
    "\n",
    "`ordersPerDateA` - number of orders on the selected date in group A;\n",
    "\n",
    "`revenuePerDateA` - total revenue on the selected date in group A;\n",
    "\n",
    "`ordersPerDateB` - number of orders on the selected date in group B;\n",
    "\n",
    "`revenuePerDateB` - total revenue on the selected date in group B;\n",
    "\n",
    "`ordersCummulativeA` - total number of orders up to and including the selected date in group A;\n",
    "\n",
    "`revenueCummulativeA` - total revenue up to and including the selected date in group A;\n",
    "\n",
    "`ordersCummulativeB` - total number of orders up to and including the selected date in group B;\n",
    "\n",
    "`revenueCummulativeB` - total revenue up to and including the selected date in group B;\n",
    "\n",
    "`visitorsPerDateA` - number of users on the selected date in group A;\n",
    "\n",
    "`visitorsPerDateB` - number of users on the selected date in group B;\n",
    "\n",
    "`visitorsCummulativeA` - number of users up to and including the selected date in group A;\n",
    "\n",
    "`visitorsCummulativeB` - number of users up to and including the selected date in group B."
   ]
  },
  {
   "cell_type": "markdown",
   "metadata": {},
   "source": [
    "**Create variables ordersByUsersA and ordersByUsersB with columns ['`userId`', '`orders`']. In them, for users who have ordered at least once, we will specify the number of completed orders.**"
   ]
  },
  {
   "cell_type": "code",
   "execution_count": 46,
   "metadata": {},
   "outputs": [],
   "source": [
    "ordersByUsersA = (\n",
    "    orders[orders['group'] == 'A']\n",
    "    .groupby('visitorId', as_index=False)\n",
    "    .agg({'transactionId': pd.Series.nunique})\n",
    ")\n",
    "ordersByUsersA.columns = ['userId', 'orders']\n",
    "\n",
    "ordersByUsersB = (\n",
    "    orders[orders['group'] == 'B']\n",
    "    .groupby('visitorId', as_index=False)\n",
    "    .agg({'transactionId': pd.Series.nunique})\n",
    ")\n",
    "ordersByUsersB.columns = ['userId', 'orders']"
   ]
  },
  {
   "cell_type": "markdown",
   "metadata": {},
   "source": [
    "**Let's declare variables sampleA and sampleB, in which users from different groups will correspond to the number of orders. Those who have not ordered anything will have zeros.**"
   ]
  },
  {
   "cell_type": "code",
   "execution_count": 47,
   "metadata": {},
   "outputs": [
    {
     "name": "stdout",
     "output_type": "stream",
     "text": [
      "P-value: 0.017\n",
      "Relative increase in the average number of Group B orders: 0.138\n"
     ]
    }
   ],
   "source": [
    "sampleA = pd.concat(\n",
    "    [\n",
    "        ordersByUsersA['orders'],\n",
    "        pd.Series(\n",
    "            0,\n",
    "            index=np.arange(\n",
    "                data['visitorsPerDateA'].sum() - len(ordersByUsersA['orders'])\n",
    "            ),\n",
    "            name='orders',\n",
    "        ),\n",
    "    ],\n",
    "    axis=0,\n",
    ")\n",
    "\n",
    "sampleB = pd.concat(\n",
    "    [\n",
    "        ordersByUsersB['orders'],\n",
    "        pd.Series(\n",
    "            0,\n",
    "            index=np.arange(\n",
    "                data['visitorsPerDateB'].sum() - len(ordersByUsersB['orders'])\n",
    "            ),\n",
    "            name='orders',\n",
    "        ),\n",
    "    ],\n",
    "    axis=0,\n",
    ")\n",
    "\n",
    "# Apply the Mann-Whitney criterion and format the p-value by rounding it.\n",
    "print('P-value:', \"{0:.3f}\".format(stats.mannwhitneyu(sampleA, sampleB)[1]))\n",
    "\n",
    "# Let's derive the relative increase in the average number of orders of group B: group B conversion/group A conversion - 1.\n",
    "print('Relative increase in the average number of Group B orders:', \"{0:.3f}\".format(sampleB.mean()/sampleA.mean()-1))"
   ]
  },
  {
   "cell_type": "markdown",
   "metadata": {},
   "source": [
    "**Conclusion:** We reject the null hypothesis."
   ]
  },
  {
   "cell_type": "markdown",
   "metadata": {},
   "source": [
    "**11. Let's calculate the statistical significance of differences in average order receipt between groups using \"raw\" data.**"
   ]
  },
  {
   "cell_type": "markdown",
   "metadata": {},
   "source": [
    "**Hypotheses formulation.**\n",
    "\n",
    "**Null hypothesis:** There are **no** statistically *significant differences* in the average order receipt between groups in the raw data.\n",
    "\n",
    "**Alternative hypothesis:** Statistically *significant differences* in average order receipt between groups on raw data **is**.\n",
    "\n",
    "а = 0.05"
   ]
  },
  {
   "cell_type": "code",
   "execution_count": 48,
   "metadata": {},
   "outputs": [
    {
     "name": "stdout",
     "output_type": "stream",
     "text": [
      "P-value: 0.729\n",
      "The ratio of the average check of group B to A: 0.259\n"
     ]
    }
   ],
   "source": [
    "print('P-value:', '{0:.3f}'.format(stats.mannwhitneyu(orders[orders['group']=='A']['revenue'], \n",
    "                                                      orders[orders['group']=='B']['revenue'])[1]))\n",
    "\n",
    "print('The ratio of the average check of group B to A:', \n",
    "      '{0:.3f}'.format(orders[orders['group']=='B']['revenue'].mean()/orders[orders['group']=='A']['revenue'].mean()-1))"
   ]
  },
  {
   "cell_type": "markdown",
   "metadata": {},
   "source": [
    "**Conclusion:** we accept the null hypothesis, p-value = 0.729 greater than 0.05 - there are no statistically significant differences in the average check between the groups. The average check of group B is higher than the average check of group A by 25.9%."
   ]
  },
  {
   "cell_type": "markdown",
   "metadata": {},
   "source": [
    "**12. Let's calculate the statistical significance of differences in the average number of orders per visitor between groups according to the \"cleaned\" data.**"
   ]
  },
  {
   "cell_type": "markdown",
   "metadata": {},
   "source": [
    "**State the hypotheses.**\n",
    "\n",
    "**Null hypothesis:** There are **no** statistically *significant differences* in the average number of orders per visitor between groups on \"cleaned\" data.\n",
    "\n",
    "**Alternative hypothesis:** Statistically *significant differences* in the average number of orders per visitor between groups on \"cleaned\" data **is**.\n",
    "\n",
    "а = 0.05"
   ]
  },
  {
   "cell_type": "markdown",
   "metadata": {},
   "source": [
    "**We create slices of users with orders greater than 3 and users who made orders more expensive than 30,000 c.u.e.**"
   ]
  },
  {
   "cell_type": "code",
   "execution_count": 49,
   "metadata": {},
   "outputs": [
    {
     "data": {
      "text/plain": [
       "1099    148427295\n",
       "18      199603092\n",
       "928     204675465\n",
       "23      237748145\n",
       "684     358944393\n",
       "dtype: int64"
      ]
     },
     "execution_count": 49,
     "metadata": {},
     "output_type": "execute_result"
    }
   ],
   "source": [
    "usersWithManyOrders = pd.concat(\n",
    "    [\n",
    "        ordersByUsersA[ordersByUsersA['orders'] > per_orders]['userId'],\n",
    "        ordersByUsersB[ordersByUsersB['orders'] > per_orders]['userId'],\n",
    "    ],\n",
    "    axis=0,\n",
    ")\n",
    "usersWithExpensiveOrders = orders[orders['revenue'] > per_revenue]['visitorId']\n",
    "abnormalUsers = (\n",
    "    pd.concat([usersWithManyOrders, usersWithExpensiveOrders], axis=0)\n",
    "    .drop_duplicates()\n",
    "    .sort_values()\n",
    ")\n",
    "\n",
    "abnormalUsers.head(5)"
   ]
  },
  {
   "cell_type": "code",
   "execution_count": 50,
   "metadata": {},
   "outputs": [
    {
     "name": "stdout",
     "output_type": "stream",
     "text": [
      "Number of abnormal users: 52\n"
     ]
    }
   ],
   "source": [
    "print('Number of abnormal users:', abnormalUsers.shape[0])"
   ]
  },
  {
   "cell_type": "markdown",
   "metadata": {},
   "source": [
    "**Let's prepare samples of the number of orders by user by test group.**"
   ]
  },
  {
   "cell_type": "code",
   "execution_count": 51,
   "metadata": {},
   "outputs": [],
   "source": [
    "sampleAFiltered = pd.concat(\n",
    "    [\n",
    "        ordersByUsersA[\n",
    "            np.logical_not(ordersByUsersA['userId'].isin(abnormalUsers))\n",
    "        ]['orders'],\n",
    "        pd.Series(\n",
    "            0,\n",
    "            index=np.arange(\n",
    "                data['visitorsPerDateA'].sum() - len(ordersByUsersA['orders'])\n",
    "            ),\n",
    "            name='orders',\n",
    "        ),\n",
    "    ],\n",
    "    axis=0,\n",
    ")\n",
    "\n",
    "sampleBFiltered = pd.concat(\n",
    "    [\n",
    "        ordersByUsersB[\n",
    "            np.logical_not(ordersByUsersB['userId'].isin(abnormalUsers))\n",
    "        ]['orders'],\n",
    "        pd.Series(\n",
    "            0,\n",
    "            index=np.arange(\n",
    "                data['visitorsPerDateB'].sum() - len(ordersByUsersB['orders'])\n",
    "            ),\n",
    "            name='orders',\n",
    "        ),\n",
    "    ],\n",
    "    axis=0,\n",
    ")"
   ]
  },
  {
   "cell_type": "markdown",
   "metadata": {},
   "source": [
    "**Let's apply the Mann-Whitney statistical criterion to the obtained samples.**"
   ]
  },
  {
   "cell_type": "code",
   "execution_count": 52,
   "metadata": {},
   "outputs": [
    {
     "name": "stdout",
     "output_type": "stream",
     "text": [
      "P-value on \"cleaned\" data: 0.013\n",
      "Relative increase in the average number of Group B orders in the \"cleaned\" data: 0.155\n"
     ]
    }
   ],
   "source": [
    "print('P-value on \"cleaned\" data:', \n",
    "      '{0:.3f}'.format(stats.mannwhitneyu(sampleAFiltered, sampleBFiltered)[1]))\n",
    "\n",
    "print('Relative increase in the average number of Group B orders in the \"cleaned\" data:', \n",
    "      '{0:.3f}'.format(sampleBFiltered.mean()/sampleAFiltered.mean()-1))"
   ]
  },
  {
   "cell_type": "markdown",
   "metadata": {},
   "source": [
    "**Conclusion:** there are 52 anomalous users in the data. The results of the cleaned data in terms of average order quantity are almost unchanged. Segment B is better than segment A."
   ]
  },
  {
   "cell_type": "markdown",
   "metadata": {},
   "source": [
    "**13. Let's calculate the statistical significance of differences in average order receipt between groups according to \"cleaned\" data.**"
   ]
  },
  {
   "cell_type": "markdown",
   "metadata": {},
   "source": [
    "**Hypotheses formulation.**\n",
    "\n",
    "**Null hypothesis:** There are **no** statistically *significant differences* in average order receipt between groups on \"cleaned\" data.\n",
    "\n",
    "**Alternative hypothesis:** Statistically *significant differences* in average order receipt between groups on \"cleaned\" data **is**.\n",
    "\n",
    "а = 0.05"
   ]
  },
  {
   "cell_type": "code",
   "execution_count": 53,
   "metadata": {},
   "outputs": [
    {
     "name": "stdout",
     "output_type": "stream",
     "text": [
      "P-value on the \"cleaned\" data: 0.845\n",
      "Ratio of the average check of group B to A on \"cleaned\" data: 0.023\n"
     ]
    }
   ],
   "source": [
    "print('P-value on the \"cleaned\" data:',\n",
    "    '{0:.3f}'.format(\n",
    "        stats.mannwhitneyu(\n",
    "            orders[\n",
    "                np.logical_and(\n",
    "                    orders['group'] == 'A',\n",
    "                    np.logical_not(orders['visitorId'].isin(abnormalUsers)),\n",
    "                )\n",
    "            ]['revenue'],\n",
    "            orders[\n",
    "                np.logical_and(\n",
    "                    orders['group'] == 'B',\n",
    "                    np.logical_not(orders['visitorId'].isin(abnormalUsers)),\n",
    "                )\n",
    "            ]['revenue'],\n",
    "        )[1]\n",
    "    )\n",
    ")\n",
    "\n",
    "print('Ratio of the average check of group B to A on \"cleaned\" data:',\n",
    "    \"{0:.3f}\".format(\n",
    "        orders[\n",
    "            np.logical_and(\n",
    "                orders['group'] == 'B',\n",
    "                np.logical_not(orders['visitorId'].isin(abnormalUsers)),\n",
    "            )\n",
    "        ]['revenue'].mean()\n",
    "        / orders[\n",
    "            np.logical_and(\n",
    "                orders['group'] == 'A',\n",
    "                np.logical_not(orders['visitorId'].isin(abnormalUsers)),\n",
    "            )\n",
    "        ]['revenue'].mean()\n",
    "        - 1\n",
    "    )\n",
    ")"
   ]
  },
  {
   "cell_type": "markdown",
   "metadata": {},
   "source": [
    "**Conclusion:** P-value increased - no statistically significant differences in the average check between groups. The difference between segments has decreased from 25.9% to 2.3%. So there is less noise in the cleaned data. "
   ]
  },
  {
   "cell_type": "markdown",
   "metadata": {},
   "source": [
    "**Conclusions on the A/B test conducted:**\n",
    "\n",
    "According to the raw data, there are differences in the average number of orders of groups A and B (P-value = 0.017 < 0.05). The relative increase in the average number of orders of group B is 13.8%\n",
    "\n",
    "According to the raw data, there are no differences in the average check between groups A and B (p-value = 0.729 > 0.05). The average check of group B is 25.9% higher than the average check of group A.\n",
    "\n",
    "There are 57 anomalous users in the data. The results of the cleaned data for average order quantity and average check are almost unchanged. Segment B is better than segment A.\n",
    "\n",
    "Based on these facts, the test should be stopped and recognized as a success, because with the available data, segment B is better than segment A."
   ]
  },
  {
   "cell_type": "markdown",
   "metadata": {},
   "source": [
    "<a id=\"num5\"></a>\n",
    "## 3. General conclusions"
   ]
  },
  {
   "cell_type": "markdown",
   "metadata": {},
   "source": [
    "Mostly buyers made 1-2 orders;\n",
    "\n",
    "5% of buyers made orders of more than 28,000 c.u;\n",
    "\n",
    "There is a statistically significant difference in the average number of orders between the groups in both the raw and the data after anomaly filtering;\n",
    "\n",
    "There is no statistically significant difference in the average check between the groups on either the \"raw\" or the data after anomaly filtering;\n",
    "\n",
    "The graph of the difference in average order quantity between groups reports that Group B's results are better than Group A and there are improvement trends of more than 10%;\n",
    "\n",
    "The graph of the difference in average check difference reports that Group B's results are 20% better;\n",
    "\n",
    "Based on these facts, the test should be stopped and recognized as a success, because with the available data segment B is better than segment A."
   ]
  }
 ],
 "metadata": {
  "ExecuteTimeLog": [
   {
    "duration": 442,
    "start_time": "2023-07-20T14:38:36.256Z"
   },
   {
    "duration": 72,
    "start_time": "2023-07-20T14:38:37.280Z"
   },
   {
    "duration": 7,
    "start_time": "2023-07-20T14:39:56.534Z"
   },
   {
    "duration": 9,
    "start_time": "2023-07-20T14:39:57.892Z"
   },
   {
    "duration": 10,
    "start_time": "2023-07-20T14:41:26.519Z"
   },
   {
    "duration": 22,
    "start_time": "2023-07-20T14:42:33.885Z"
   },
   {
    "duration": 382,
    "start_time": "2023-07-26T17:11:50.806Z"
   },
   {
    "duration": 62,
    "start_time": "2023-07-26T17:11:52.075Z"
   },
   {
    "duration": 6,
    "start_time": "2023-07-26T17:11:52.337Z"
   },
   {
    "duration": 10,
    "start_time": "2023-07-26T17:11:52.642Z"
   },
   {
    "duration": 9,
    "start_time": "2023-07-26T17:11:53.244Z"
   },
   {
    "duration": 15,
    "start_time": "2023-07-26T17:11:53.436Z"
   },
   {
    "duration": 587,
    "start_time": "2023-07-26T17:13:09.929Z"
   },
   {
    "duration": 107,
    "start_time": "2023-07-26T17:14:09.163Z"
   },
   {
    "duration": 99,
    "start_time": "2023-07-26T17:15:19.307Z"
   },
   {
    "duration": 50,
    "start_time": "2023-07-26T17:15:36.796Z"
   },
   {
    "duration": 6,
    "start_time": "2023-07-26T17:20:39.831Z"
   },
   {
    "duration": 6,
    "start_time": "2023-07-26T17:20:53.862Z"
   },
   {
    "duration": 8,
    "start_time": "2023-07-26T19:50:56.044Z"
   },
   {
    "duration": 387,
    "start_time": "2023-07-31T11:16:05.300Z"
   },
   {
    "duration": 72,
    "start_time": "2023-07-31T11:16:05.689Z"
   },
   {
    "duration": 6,
    "start_time": "2023-07-31T11:16:06.345Z"
   },
   {
    "duration": 8,
    "start_time": "2023-07-31T11:16:06.745Z"
   },
   {
    "duration": 9,
    "start_time": "2023-07-31T11:16:07.252Z"
   },
   {
    "duration": 16,
    "start_time": "2023-07-31T11:16:07.813Z"
   },
   {
    "duration": 141,
    "start_time": "2023-07-31T11:16:08.779Z"
   },
   {
    "duration": 6,
    "start_time": "2023-07-31T11:16:09.363Z"
   },
   {
    "duration": 6,
    "start_time": "2023-07-31T11:16:10.100Z"
   },
   {
    "duration": 11,
    "start_time": "2023-07-31T11:16:10.380Z"
   },
   {
    "duration": 76,
    "start_time": "2023-07-31T11:16:11.354Z"
   },
   {
    "duration": 8,
    "start_time": "2023-07-31T11:20:38.703Z"
   },
   {
    "duration": 14,
    "start_time": "2023-07-31T11:33:49.147Z"
   },
   {
    "duration": 18,
    "start_time": "2023-07-31T11:34:07.285Z"
   },
   {
    "duration": 11,
    "start_time": "2023-07-31T11:34:18.452Z"
   },
   {
    "duration": 187,
    "start_time": "2023-07-31T11:44:15.458Z"
   },
   {
    "duration": 145,
    "start_time": "2023-07-31T12:39:03.811Z"
   },
   {
    "duration": 29,
    "start_time": "2023-07-31T12:39:29.569Z"
   },
   {
    "duration": 481,
    "start_time": "2023-07-31T13:13:40.610Z"
   },
   {
    "duration": 3,
    "start_time": "2023-07-31T13:13:53.216Z"
   },
   {
    "duration": 280,
    "start_time": "2023-07-31T13:15:04.787Z"
   },
   {
    "duration": 305,
    "start_time": "2023-07-31T13:20:33.722Z"
   },
   {
    "duration": 455,
    "start_time": "2023-07-31T13:26:04.561Z"
   },
   {
    "duration": 20,
    "start_time": "2023-07-31T13:35:19.888Z"
   },
   {
    "duration": 373,
    "start_time": "2023-07-31T13:35:39.228Z"
   },
   {
    "duration": 269,
    "start_time": "2023-07-31T13:36:24.196Z"
   },
   {
    "duration": 298,
    "start_time": "2023-07-31T13:36:36.084Z"
   },
   {
    "duration": 342,
    "start_time": "2023-07-31T13:36:44.669Z"
   },
   {
    "duration": 266,
    "start_time": "2023-07-31T13:36:51.393Z"
   },
   {
    "duration": 268,
    "start_time": "2023-07-31T13:36:54.757Z"
   },
   {
    "duration": 119,
    "start_time": "2023-07-31T13:38:30.597Z"
   },
   {
    "duration": 342,
    "start_time": "2023-07-31T13:39:18.457Z"
   },
   {
    "duration": 373,
    "start_time": "2023-07-31T13:39:30.260Z"
   },
   {
    "duration": 403,
    "start_time": "2023-07-31T13:40:24.699Z"
   },
   {
    "duration": 301,
    "start_time": "2023-07-31T13:40:31.615Z"
   },
   {
    "duration": 358,
    "start_time": "2023-07-31T13:40:40.302Z"
   },
   {
    "duration": 396,
    "start_time": "2023-07-31T13:40:54.177Z"
   },
   {
    "duration": 333,
    "start_time": "2023-07-31T13:41:01.253Z"
   },
   {
    "duration": 452,
    "start_time": "2023-07-31T13:45:17.060Z"
   },
   {
    "duration": 1977,
    "start_time": "2023-07-31T14:26:38.941Z"
   },
   {
    "duration": 199,
    "start_time": "2023-07-31T14:28:23.974Z"
   },
   {
    "duration": 132,
    "start_time": "2023-07-31T14:32:36.189Z"
   },
   {
    "duration": 5,
    "start_time": "2023-07-31T14:54:52.569Z"
   },
   {
    "duration": 165,
    "start_time": "2023-07-31T14:58:42.994Z"
   },
   {
    "duration": 2681,
    "start_time": "2023-07-31T15:01:33.043Z"
   },
   {
    "duration": 9,
    "start_time": "2023-07-31T15:01:41.480Z"
   },
   {
    "duration": 168,
    "start_time": "2023-07-31T15:10:24.162Z"
   },
   {
    "duration": 208,
    "start_time": "2023-07-31T15:17:36.232Z"
   },
   {
    "duration": 151,
    "start_time": "2023-07-31T15:19:05.567Z"
   },
   {
    "duration": 6,
    "start_time": "2023-07-31T15:20:13.551Z"
   },
   {
    "duration": 7,
    "start_time": "2023-07-31T15:20:39.992Z"
   },
   {
    "duration": 6,
    "start_time": "2023-07-31T15:20:56.512Z"
   },
   {
    "duration": 159,
    "start_time": "2023-07-31T15:22:51.306Z"
   },
   {
    "duration": 489,
    "start_time": "2023-07-31T15:23:21.382Z"
   },
   {
    "duration": 164,
    "start_time": "2023-07-31T15:23:28.466Z"
   },
   {
    "duration": 11,
    "start_time": "2023-07-31T15:24:46.020Z"
   },
   {
    "duration": 0,
    "start_time": "2023-08-01T16:17:19.293Z"
   },
   {
    "duration": 0,
    "start_time": "2023-08-01T16:17:19.295Z"
   },
   {
    "duration": 0,
    "start_time": "2023-08-01T16:17:19.296Z"
   },
   {
    "duration": 0,
    "start_time": "2023-08-01T16:17:19.297Z"
   },
   {
    "duration": 0,
    "start_time": "2023-08-01T16:17:19.299Z"
   },
   {
    "duration": 0,
    "start_time": "2023-08-01T16:17:19.300Z"
   },
   {
    "duration": 0,
    "start_time": "2023-08-01T16:17:19.301Z"
   },
   {
    "duration": 0,
    "start_time": "2023-08-01T16:17:19.303Z"
   },
   {
    "duration": 0,
    "start_time": "2023-08-01T16:17:19.304Z"
   },
   {
    "duration": 0,
    "start_time": "2023-08-01T16:17:19.305Z"
   },
   {
    "duration": 0,
    "start_time": "2023-08-01T16:17:19.307Z"
   },
   {
    "duration": 0,
    "start_time": "2023-08-01T16:17:19.308Z"
   },
   {
    "duration": 0,
    "start_time": "2023-08-01T16:17:19.310Z"
   },
   {
    "duration": 0,
    "start_time": "2023-08-01T16:17:19.311Z"
   },
   {
    "duration": 0,
    "start_time": "2023-08-01T16:17:19.312Z"
   },
   {
    "duration": 0,
    "start_time": "2023-08-01T16:17:19.313Z"
   },
   {
    "duration": 0,
    "start_time": "2023-08-01T16:17:19.314Z"
   },
   {
    "duration": 0,
    "start_time": "2023-08-01T16:17:19.316Z"
   },
   {
    "duration": 0,
    "start_time": "2023-08-01T16:17:19.317Z"
   },
   {
    "duration": 0,
    "start_time": "2023-08-01T16:17:19.318Z"
   },
   {
    "duration": 0,
    "start_time": "2023-08-01T16:17:19.319Z"
   },
   {
    "duration": 0,
    "start_time": "2023-08-01T16:17:19.320Z"
   },
   {
    "duration": 0,
    "start_time": "2023-08-01T16:17:19.322Z"
   },
   {
    "duration": 0,
    "start_time": "2023-08-01T16:17:19.323Z"
   },
   {
    "duration": 0,
    "start_time": "2023-08-01T16:17:19.323Z"
   },
   {
    "duration": 0,
    "start_time": "2023-08-01T16:17:19.325Z"
   },
   {
    "duration": 0,
    "start_time": "2023-08-01T16:17:19.326Z"
   },
   {
    "duration": 0,
    "start_time": "2023-08-01T16:17:19.327Z"
   },
   {
    "duration": 0,
    "start_time": "2023-08-01T16:17:19.328Z"
   },
   {
    "duration": 0,
    "start_time": "2023-08-01T16:17:19.329Z"
   },
   {
    "duration": 0,
    "start_time": "2023-08-01T16:17:19.367Z"
   },
   {
    "duration": 3,
    "start_time": "2023-08-01T16:18:04.134Z"
   },
   {
    "duration": 1171,
    "start_time": "2023-08-01T16:18:21.394Z"
   },
   {
    "duration": 29,
    "start_time": "2023-08-01T16:18:22.567Z"
   },
   {
    "duration": 8,
    "start_time": "2023-08-01T16:18:22.598Z"
   },
   {
    "duration": 9,
    "start_time": "2023-08-01T16:18:22.608Z"
   },
   {
    "duration": 8,
    "start_time": "2023-08-01T16:18:22.619Z"
   },
   {
    "duration": 15,
    "start_time": "2023-08-01T16:18:22.629Z"
   },
   {
    "duration": 65,
    "start_time": "2023-08-01T16:18:22.646Z"
   },
   {
    "duration": 7,
    "start_time": "2023-08-01T16:18:22.713Z"
   },
   {
    "duration": 7,
    "start_time": "2023-08-01T16:18:22.722Z"
   },
   {
    "duration": 11,
    "start_time": "2023-08-01T16:18:22.731Z"
   },
   {
    "duration": 7,
    "start_time": "2023-08-01T16:18:22.743Z"
   },
   {
    "duration": 175,
    "start_time": "2023-08-01T16:18:22.752Z"
   },
   {
    "duration": 126,
    "start_time": "2023-08-01T16:18:22.929Z"
   },
   {
    "duration": 10,
    "start_time": "2023-08-01T16:18:23.066Z"
   },
   {
    "duration": 318,
    "start_time": "2023-08-01T16:18:23.079Z"
   },
   {
    "duration": 330,
    "start_time": "2023-08-01T16:18:23.399Z"
   },
   {
    "duration": 514,
    "start_time": "2023-08-01T16:18:23.731Z"
   },
   {
    "duration": 340,
    "start_time": "2023-08-01T16:18:24.247Z"
   },
   {
    "duration": 434,
    "start_time": "2023-08-01T16:18:24.589Z"
   },
   {
    "duration": 160,
    "start_time": "2023-08-01T16:18:25.025Z"
   },
   {
    "duration": 6,
    "start_time": "2023-08-01T16:18:25.188Z"
   },
   {
    "duration": 197,
    "start_time": "2023-08-01T16:18:25.195Z"
   },
   {
    "duration": 5,
    "start_time": "2023-08-01T16:18:25.394Z"
   },
   {
    "duration": 228,
    "start_time": "2023-08-01T16:18:25.401Z"
   },
   {
    "duration": 157,
    "start_time": "2023-08-01T16:18:25.630Z"
   },
   {
    "duration": 7,
    "start_time": "2023-08-01T16:18:25.789Z"
   },
   {
    "duration": 18,
    "start_time": "2023-08-01T16:18:25.797Z"
   },
   {
    "duration": 23,
    "start_time": "2023-08-01T16:18:25.818Z"
   },
   {
    "duration": 161,
    "start_time": "2023-08-01T16:18:25.843Z"
   },
   {
    "duration": 11,
    "start_time": "2023-08-01T16:18:26.006Z"
   },
   {
    "duration": 1807,
    "start_time": "2023-08-01T16:18:26.019Z"
   },
   {
    "duration": 1756,
    "start_time": "2023-08-01T16:34:20.038Z"
   },
   {
    "duration": 9,
    "start_time": "2023-08-01T16:34:44.268Z"
   },
   {
    "duration": 1802,
    "start_time": "2023-08-01T16:35:05.508Z"
   },
   {
    "duration": 10,
    "start_time": "2023-08-01T16:38:46.138Z"
   },
   {
    "duration": 14,
    "start_time": "2023-08-01T16:39:00.375Z"
   },
   {
    "duration": 11,
    "start_time": "2023-08-01T16:39:07.542Z"
   },
   {
    "duration": 1775,
    "start_time": "2023-08-01T16:42:30.907Z"
   },
   {
    "duration": 9,
    "start_time": "2023-08-01T16:42:55.713Z"
   },
   {
    "duration": 9,
    "start_time": "2023-08-01T17:14:53.301Z"
   },
   {
    "duration": 28,
    "start_time": "2023-08-01T17:22:10.552Z"
   },
   {
    "duration": 1744,
    "start_time": "2023-08-01T17:22:58.267Z"
   },
   {
    "duration": 16,
    "start_time": "2023-08-01T17:23:35.483Z"
   },
   {
    "duration": 20,
    "start_time": "2023-08-01T17:23:49.179Z"
   },
   {
    "duration": 401,
    "start_time": "2023-08-01T17:30:16.288Z"
   },
   {
    "duration": 542,
    "start_time": "2023-08-01T17:30:28.239Z"
   },
   {
    "duration": 310,
    "start_time": "2023-08-01T18:22:43.183Z"
   },
   {
    "duration": 316,
    "start_time": "2023-08-01T18:23:21.181Z"
   },
   {
    "duration": 37,
    "start_time": "2023-08-01T18:28:12.892Z"
   },
   {
    "duration": 27,
    "start_time": "2023-08-01T18:28:55.154Z"
   },
   {
    "duration": 13,
    "start_time": "2023-08-01T18:29:00.934Z"
   },
   {
    "duration": 5,
    "start_time": "2023-08-01T18:29:07.283Z"
   },
   {
    "duration": 7,
    "start_time": "2023-08-01T18:29:07.739Z"
   },
   {
    "duration": 10,
    "start_time": "2023-08-01T18:29:15.441Z"
   },
   {
    "duration": 13,
    "start_time": "2023-08-01T18:29:19.442Z"
   },
   {
    "duration": 88,
    "start_time": "2023-08-01T18:33:19.753Z"
   },
   {
    "duration": 13,
    "start_time": "2023-08-01T18:33:38.758Z"
   },
   {
    "duration": 76,
    "start_time": "2023-08-01T18:33:40.611Z"
   },
   {
    "duration": 33,
    "start_time": "2023-08-01T18:33:49.134Z"
   },
   {
    "duration": 6,
    "start_time": "2023-08-01T18:47:19.083Z"
   },
   {
    "duration": 315,
    "start_time": "2023-08-01T18:47:19.546Z"
   },
   {
    "duration": 308,
    "start_time": "2023-08-01T18:54:08.793Z"
   },
   {
    "duration": 310,
    "start_time": "2023-08-01T18:54:15.182Z"
   },
   {
    "duration": 304,
    "start_time": "2023-08-01T18:56:08.582Z"
   },
   {
    "duration": 402,
    "start_time": "2023-08-01T19:11:25.787Z"
   },
   {
    "duration": 324,
    "start_time": "2023-08-01T19:18:48.087Z"
   },
   {
    "duration": 424,
    "start_time": "2023-08-01T19:19:31.083Z"
   },
   {
    "duration": 342,
    "start_time": "2023-08-01T19:20:52.656Z"
   },
   {
    "duration": 521,
    "start_time": "2023-08-01T19:27:44.389Z"
   },
   {
    "duration": 417,
    "start_time": "2023-08-01T19:28:15.020Z"
   },
   {
    "duration": 174,
    "start_time": "2023-08-01T19:36:57.972Z"
   },
   {
    "duration": 156,
    "start_time": "2023-08-01T19:37:56.819Z"
   },
   {
    "duration": 167,
    "start_time": "2023-08-01T19:38:32.679Z"
   },
   {
    "duration": 193,
    "start_time": "2023-08-01T19:41:49.887Z"
   },
   {
    "duration": 179,
    "start_time": "2023-08-01T19:44:13.370Z"
   },
   {
    "duration": 162,
    "start_time": "2023-08-01T19:45:02.138Z"
   },
   {
    "duration": 176,
    "start_time": "2023-08-01T19:45:28.985Z"
   },
   {
    "duration": 158,
    "start_time": "2023-08-01T19:45:35.905Z"
   },
   {
    "duration": 185,
    "start_time": "2023-08-01T19:47:28.058Z"
   },
   {
    "duration": 157,
    "start_time": "2023-08-01T19:47:43.410Z"
   },
   {
    "duration": 191,
    "start_time": "2023-08-01T19:47:47.515Z"
   },
   {
    "duration": 324,
    "start_time": "2023-08-01T19:49:24.034Z"
   },
   {
    "duration": 155,
    "start_time": "2023-08-01T19:49:27.299Z"
   },
   {
    "duration": 451,
    "start_time": "2023-08-01T19:50:48.971Z"
   },
   {
    "duration": 190,
    "start_time": "2023-08-01T19:51:40.102Z"
   },
   {
    "duration": 184,
    "start_time": "2023-08-01T20:03:52.062Z"
   },
   {
    "duration": 1847,
    "start_time": "2023-08-01T20:04:25.487Z"
   },
   {
    "duration": 204,
    "start_time": "2023-08-01T20:05:00.693Z"
   },
   {
    "duration": 232,
    "start_time": "2023-08-01T20:05:50.718Z"
   },
   {
    "duration": 227,
    "start_time": "2023-08-01T20:06:09.655Z"
   },
   {
    "duration": 228,
    "start_time": "2023-08-01T20:07:39.991Z"
   },
   {
    "duration": 244,
    "start_time": "2023-08-01T20:07:52.482Z"
   },
   {
    "duration": 483,
    "start_time": "2023-08-01T20:07:56.992Z"
   },
   {
    "duration": 488,
    "start_time": "2023-08-01T20:08:01.939Z"
   },
   {
    "duration": 237,
    "start_time": "2023-08-01T20:08:51.283Z"
   },
   {
    "duration": 402,
    "start_time": "2023-08-01T20:11:37.283Z"
   },
   {
    "duration": 59,
    "start_time": "2023-08-01T20:12:10.297Z"
   },
   {
    "duration": 445,
    "start_time": "2023-08-01T20:15:27.250Z"
   },
   {
    "duration": 407,
    "start_time": "2023-08-01T20:17:01.541Z"
   },
   {
    "duration": 412,
    "start_time": "2023-08-01T20:17:07.484Z"
   },
   {
    "duration": 316,
    "start_time": "2023-08-01T20:17:50.013Z"
   },
   {
    "duration": 282,
    "start_time": "2023-08-01T20:18:33.990Z"
   },
   {
    "duration": 442,
    "start_time": "2023-08-01T20:18:46.542Z"
   },
   {
    "duration": 389,
    "start_time": "2023-08-01T20:19:31.494Z"
   },
   {
    "duration": 408,
    "start_time": "2023-08-01T20:20:00.805Z"
   },
   {
    "duration": 442,
    "start_time": "2023-08-01T20:20:31.822Z"
   },
   {
    "duration": 1259,
    "start_time": "2023-08-01T20:21:18.459Z"
   },
   {
    "duration": 41,
    "start_time": "2023-08-01T20:21:19.721Z"
   },
   {
    "duration": 6,
    "start_time": "2023-08-01T20:21:19.765Z"
   },
   {
    "duration": 13,
    "start_time": "2023-08-01T20:21:19.773Z"
   },
   {
    "duration": 11,
    "start_time": "2023-08-01T20:21:19.789Z"
   },
   {
    "duration": 12,
    "start_time": "2023-08-01T20:21:19.802Z"
   },
   {
    "duration": 61,
    "start_time": "2023-08-01T20:21:19.816Z"
   },
   {
    "duration": 21,
    "start_time": "2023-08-01T20:21:19.880Z"
   },
   {
    "duration": 6,
    "start_time": "2023-08-01T20:21:19.903Z"
   },
   {
    "duration": 8,
    "start_time": "2023-08-01T20:21:19.912Z"
   },
   {
    "duration": 74,
    "start_time": "2023-08-01T20:21:19.922Z"
   },
   {
    "duration": 9,
    "start_time": "2023-08-01T20:21:19.997Z"
   },
   {
    "duration": 219,
    "start_time": "2023-08-01T20:21:20.008Z"
   },
   {
    "duration": 142,
    "start_time": "2023-08-01T20:21:20.229Z"
   },
   {
    "duration": 12,
    "start_time": "2023-08-01T20:21:20.373Z"
   },
   {
    "duration": 28,
    "start_time": "2023-08-01T20:21:20.387Z"
   },
   {
    "duration": 368,
    "start_time": "2023-08-01T20:21:20.417Z"
   },
   {
    "duration": 361,
    "start_time": "2023-08-01T20:21:20.787Z"
   },
   {
    "duration": 476,
    "start_time": "2023-08-01T20:21:21.149Z"
   },
   {
    "duration": 346,
    "start_time": "2023-08-01T20:21:21.626Z"
   },
   {
    "duration": 449,
    "start_time": "2023-08-01T20:21:21.977Z"
   },
   {
    "duration": 184,
    "start_time": "2023-08-01T20:21:22.429Z"
   },
   {
    "duration": 200,
    "start_time": "2023-08-01T20:21:22.615Z"
   },
   {
    "duration": 7,
    "start_time": "2023-08-01T20:21:22.818Z"
   },
   {
    "duration": 301,
    "start_time": "2023-08-01T20:21:22.826Z"
   },
   {
    "duration": 379,
    "start_time": "2023-08-01T20:21:23.129Z"
   },
   {
    "duration": 0,
    "start_time": "2023-08-01T20:21:23.510Z"
   },
   {
    "duration": 0,
    "start_time": "2023-08-01T20:21:23.512Z"
   },
   {
    "duration": 0,
    "start_time": "2023-08-01T20:21:23.513Z"
   },
   {
    "duration": 0,
    "start_time": "2023-08-01T20:21:23.514Z"
   },
   {
    "duration": 0,
    "start_time": "2023-08-01T20:21:23.515Z"
   },
   {
    "duration": 0,
    "start_time": "2023-08-01T20:21:23.517Z"
   },
   {
    "duration": 0,
    "start_time": "2023-08-01T20:21:23.517Z"
   },
   {
    "duration": 0,
    "start_time": "2023-08-01T20:21:23.519Z"
   },
   {
    "duration": 0,
    "start_time": "2023-08-01T20:21:23.520Z"
   },
   {
    "duration": 0,
    "start_time": "2023-08-01T20:21:23.521Z"
   },
   {
    "duration": 0,
    "start_time": "2023-08-01T20:21:23.522Z"
   },
   {
    "duration": 0,
    "start_time": "2023-08-01T20:21:23.523Z"
   },
   {
    "duration": 0,
    "start_time": "2023-08-01T20:21:23.524Z"
   },
   {
    "duration": 391,
    "start_time": "2023-08-01T20:21:54.646Z"
   },
   {
    "duration": 403,
    "start_time": "2023-08-01T20:22:11.077Z"
   },
   {
    "duration": 249,
    "start_time": "2023-08-01T20:22:18.250Z"
   },
   {
    "duration": 262,
    "start_time": "2023-08-01T20:22:24.760Z"
   },
   {
    "duration": 267,
    "start_time": "2023-08-01T20:22:32.951Z"
   },
   {
    "duration": 433,
    "start_time": "2023-08-01T20:22:39.136Z"
   },
   {
    "duration": 420,
    "start_time": "2023-08-01T20:23:18.170Z"
   },
   {
    "duration": 555,
    "start_time": "2023-08-01T20:24:33.441Z"
   },
   {
    "duration": 452,
    "start_time": "2023-08-01T20:26:11.242Z"
   },
   {
    "duration": 458,
    "start_time": "2023-08-01T20:26:42.738Z"
   },
   {
    "duration": 242,
    "start_time": "2023-08-01T20:30:26.748Z"
   },
   {
    "duration": 333,
    "start_time": "2023-08-01T20:31:58.782Z"
   },
   {
    "duration": 321,
    "start_time": "2023-08-01T20:32:25.538Z"
   },
   {
    "duration": 329,
    "start_time": "2023-08-01T20:33:15.998Z"
   },
   {
    "duration": 323,
    "start_time": "2023-08-01T20:34:15.982Z"
   },
   {
    "duration": 349,
    "start_time": "2023-08-01T20:34:32.592Z"
   },
   {
    "duration": 464,
    "start_time": "2023-08-01T20:35:11.238Z"
   },
   {
    "duration": 401,
    "start_time": "2023-08-01T20:35:53.712Z"
   },
   {
    "duration": 610,
    "start_time": "2023-08-01T20:37:28.410Z"
   },
   {
    "duration": 127,
    "start_time": "2023-08-01T20:37:53.097Z"
   },
   {
    "duration": 470,
    "start_time": "2023-08-01T20:37:56.484Z"
   },
   {
    "duration": 203,
    "start_time": "2023-08-01T20:39:04.042Z"
   },
   {
    "duration": 181,
    "start_time": "2023-08-01T20:40:04.438Z"
   },
   {
    "duration": 185,
    "start_time": "2023-08-01T20:40:47.417Z"
   },
   {
    "duration": 252,
    "start_time": "2023-08-01T20:41:53.084Z"
   },
   {
    "duration": 15,
    "start_time": "2023-08-01T20:44:22.444Z"
   },
   {
    "duration": 406,
    "start_time": "2023-08-01T20:44:28.934Z"
   },
   {
    "duration": 218,
    "start_time": "2023-08-01T20:44:35.584Z"
   },
   {
    "duration": 337,
    "start_time": "2023-08-01T20:45:51.201Z"
   },
   {
    "duration": 332,
    "start_time": "2023-08-01T20:46:14.295Z"
   },
   {
    "duration": 430,
    "start_time": "2023-08-01T20:47:00.040Z"
   },
   {
    "duration": 536,
    "start_time": "2023-08-01T20:47:25.407Z"
   },
   {
    "duration": 350,
    "start_time": "2023-08-01T20:47:32.294Z"
   },
   {
    "duration": 475,
    "start_time": "2023-08-01T20:47:44.769Z"
   },
   {
    "duration": 368,
    "start_time": "2023-08-01T20:48:24.936Z"
   },
   {
    "duration": 337,
    "start_time": "2023-08-01T20:48:28.607Z"
   },
   {
    "duration": 376,
    "start_time": "2023-08-01T20:48:34.063Z"
   },
   {
    "duration": 499,
    "start_time": "2023-08-01T20:48:45.096Z"
   },
   {
    "duration": 658,
    "start_time": "2023-08-01T20:48:55.152Z"
   },
   {
    "duration": 460,
    "start_time": "2023-08-01T20:49:56.983Z"
   },
   {
    "duration": 383,
    "start_time": "2023-08-01T20:50:27.488Z"
   },
   {
    "duration": 384,
    "start_time": "2023-08-01T20:50:36.960Z"
   },
   {
    "duration": 200,
    "start_time": "2023-08-01T20:50:45.153Z"
   },
   {
    "duration": 491,
    "start_time": "2023-08-01T20:51:42.946Z"
   },
   {
    "duration": 709,
    "start_time": "2023-08-01T20:51:49.338Z"
   },
   {
    "duration": 16,
    "start_time": "2023-08-01T20:54:48.236Z"
   },
   {
    "duration": 7,
    "start_time": "2023-08-01T20:54:56.403Z"
   },
   {
    "duration": 486,
    "start_time": "2023-08-01T20:56:34.357Z"
   },
   {
    "duration": 185,
    "start_time": "2023-08-01T20:56:55.162Z"
   },
   {
    "duration": 5,
    "start_time": "2023-08-01T21:01:00.744Z"
   },
   {
    "duration": 1269,
    "start_time": "2023-08-01T21:04:56.063Z"
   },
   {
    "duration": 40,
    "start_time": "2023-08-01T21:04:57.334Z"
   },
   {
    "duration": 7,
    "start_time": "2023-08-01T21:04:57.378Z"
   },
   {
    "duration": 54,
    "start_time": "2023-08-01T21:04:57.387Z"
   },
   {
    "duration": 55,
    "start_time": "2023-08-01T21:04:57.443Z"
   },
   {
    "duration": 37,
    "start_time": "2023-08-01T21:04:57.500Z"
   },
   {
    "duration": 58,
    "start_time": "2023-08-01T21:04:57.538Z"
   },
   {
    "duration": 22,
    "start_time": "2023-08-01T21:04:57.598Z"
   },
   {
    "duration": 6,
    "start_time": "2023-08-01T21:04:57.623Z"
   },
   {
    "duration": 24,
    "start_time": "2023-08-01T21:04:57.632Z"
   },
   {
    "duration": 25,
    "start_time": "2023-08-01T21:04:57.658Z"
   },
   {
    "duration": 19,
    "start_time": "2023-08-01T21:04:57.685Z"
   },
   {
    "duration": 191,
    "start_time": "2023-08-01T21:04:57.706Z"
   },
   {
    "duration": 140,
    "start_time": "2023-08-01T21:04:57.899Z"
   },
   {
    "duration": 11,
    "start_time": "2023-08-01T21:04:58.040Z"
   },
   {
    "duration": 9,
    "start_time": "2023-08-01T21:04:58.074Z"
   },
   {
    "duration": 315,
    "start_time": "2023-08-01T21:04:58.085Z"
   },
   {
    "duration": 339,
    "start_time": "2023-08-01T21:04:58.402Z"
   },
   {
    "duration": 484,
    "start_time": "2023-08-01T21:04:58.743Z"
   },
   {
    "duration": 372,
    "start_time": "2023-08-01T21:04:59.229Z"
   },
   {
    "duration": 453,
    "start_time": "2023-08-01T21:04:59.604Z"
   },
   {
    "duration": 232,
    "start_time": "2023-08-01T21:05:00.059Z"
   },
   {
    "duration": 226,
    "start_time": "2023-08-01T21:05:00.294Z"
   },
   {
    "duration": 6,
    "start_time": "2023-08-01T21:05:00.522Z"
   },
   {
    "duration": 310,
    "start_time": "2023-08-01T21:05:00.529Z"
   },
   {
    "duration": 485,
    "start_time": "2023-08-01T21:05:00.841Z"
   },
   {
    "duration": 5,
    "start_time": "2023-08-01T21:05:01.331Z"
   },
   {
    "duration": 62,
    "start_time": "2023-08-01T21:05:01.338Z"
   },
   {
    "duration": 258,
    "start_time": "2023-08-01T21:05:01.401Z"
   },
   {
    "duration": 156,
    "start_time": "2023-08-01T21:05:01.661Z"
   },
   {
    "duration": 7,
    "start_time": "2023-08-01T21:05:01.819Z"
   },
   {
    "duration": 94,
    "start_time": "2023-08-01T21:05:01.828Z"
   },
   {
    "duration": 87,
    "start_time": "2023-08-01T21:05:01.924Z"
   },
   {
    "duration": 212,
    "start_time": "2023-08-01T21:05:02.013Z"
   },
   {
    "duration": 12,
    "start_time": "2023-08-01T21:05:02.227Z"
   },
   {
    "duration": 24,
    "start_time": "2023-08-01T21:05:02.241Z"
   },
   {
    "duration": 32,
    "start_time": "2023-08-01T21:05:02.268Z"
   },
   {
    "duration": 56,
    "start_time": "2023-08-01T21:05:02.302Z"
   },
   {
    "duration": 21,
    "start_time": "2023-08-01T21:05:02.360Z"
   },
   {
    "duration": 273,
    "start_time": "2023-08-01T21:12:20.102Z"
   },
   {
    "duration": 9,
    "start_time": "2023-08-01T21:20:17.155Z"
   },
   {
    "duration": 218,
    "start_time": "2023-08-01T21:25:24.112Z"
   },
   {
    "duration": 1358,
    "start_time": "2023-08-01T21:26:23.457Z"
   },
   {
    "duration": 40,
    "start_time": "2023-08-01T21:26:24.817Z"
   },
   {
    "duration": 6,
    "start_time": "2023-08-01T21:26:24.859Z"
   },
   {
    "duration": 30,
    "start_time": "2023-08-01T21:26:24.867Z"
   },
   {
    "duration": 14,
    "start_time": "2023-08-01T21:26:24.900Z"
   },
   {
    "duration": 19,
    "start_time": "2023-08-01T21:26:24.915Z"
   },
   {
    "duration": 60,
    "start_time": "2023-08-01T21:26:24.936Z"
   },
   {
    "duration": 22,
    "start_time": "2023-08-01T21:26:24.998Z"
   },
   {
    "duration": 5,
    "start_time": "2023-08-01T21:26:25.022Z"
   },
   {
    "duration": 9,
    "start_time": "2023-08-01T21:26:25.030Z"
   },
   {
    "duration": 15,
    "start_time": "2023-08-01T21:26:25.040Z"
   },
   {
    "duration": 20,
    "start_time": "2023-08-01T21:26:25.057Z"
   },
   {
    "duration": 189,
    "start_time": "2023-08-01T21:26:25.078Z"
   },
   {
    "duration": 140,
    "start_time": "2023-08-01T21:26:25.271Z"
   },
   {
    "duration": 9,
    "start_time": "2023-08-01T21:26:25.413Z"
   },
   {
    "duration": 31,
    "start_time": "2023-08-01T21:26:25.424Z"
   },
   {
    "duration": 322,
    "start_time": "2023-08-01T21:26:25.457Z"
   },
   {
    "duration": 340,
    "start_time": "2023-08-01T21:26:25.784Z"
   },
   {
    "duration": 482,
    "start_time": "2023-08-01T21:26:26.126Z"
   },
   {
    "duration": 422,
    "start_time": "2023-08-01T21:26:26.611Z"
   },
   {
    "duration": 456,
    "start_time": "2023-08-01T21:26:27.035Z"
   },
   {
    "duration": 184,
    "start_time": "2023-08-01T21:26:27.494Z"
   },
   {
    "duration": 210,
    "start_time": "2023-08-01T21:26:27.680Z"
   },
   {
    "duration": 6,
    "start_time": "2023-08-01T21:26:27.892Z"
   },
   {
    "duration": 291,
    "start_time": "2023-08-01T21:26:27.900Z"
   },
   {
    "duration": 516,
    "start_time": "2023-08-01T21:26:28.193Z"
   },
   {
    "duration": 5,
    "start_time": "2023-08-01T21:26:28.712Z"
   },
   {
    "duration": 7,
    "start_time": "2023-08-01T21:26:28.721Z"
   },
   {
    "duration": 267,
    "start_time": "2023-08-01T21:26:28.730Z"
   },
   {
    "duration": 168,
    "start_time": "2023-08-01T21:26:28.999Z"
   },
   {
    "duration": 11,
    "start_time": "2023-08-01T21:26:29.168Z"
   },
   {
    "duration": 183,
    "start_time": "2023-08-01T21:26:29.181Z"
   },
   {
    "duration": 15,
    "start_time": "2023-08-01T21:26:29.367Z"
   },
   {
    "duration": 12,
    "start_time": "2023-08-01T21:26:29.383Z"
   },
   {
    "duration": 7,
    "start_time": "2023-08-01T21:26:29.397Z"
   },
   {
    "duration": 28,
    "start_time": "2023-08-01T21:26:29.406Z"
   },
   {
    "duration": 47,
    "start_time": "2023-08-01T21:26:29.436Z"
   },
   {
    "duration": 190,
    "start_time": "2023-08-01T21:28:43.595Z"
   },
   {
    "duration": 2413,
    "start_time": "2023-08-01T21:29:21.299Z"
   },
   {
    "duration": 2310,
    "start_time": "2023-08-01T21:29:31.992Z"
   },
   {
    "duration": 2176,
    "start_time": "2023-08-01T21:29:43.753Z"
   },
   {
    "duration": 10,
    "start_time": "2023-08-01T21:30:00.434Z"
   },
   {
    "duration": 12,
    "start_time": "2023-08-01T21:31:00.397Z"
   },
   {
    "duration": 16,
    "start_time": "2023-08-01T21:31:06.868Z"
   },
   {
    "duration": 1233,
    "start_time": "2023-08-01T21:31:59.022Z"
   },
   {
    "duration": 43,
    "start_time": "2023-08-01T21:32:00.257Z"
   },
   {
    "duration": 7,
    "start_time": "2023-08-01T21:32:00.301Z"
   },
   {
    "duration": 27,
    "start_time": "2023-08-01T21:32:00.310Z"
   },
   {
    "duration": 44,
    "start_time": "2023-08-01T21:32:00.338Z"
   },
   {
    "duration": 46,
    "start_time": "2023-08-01T21:32:00.386Z"
   },
   {
    "duration": 72,
    "start_time": "2023-08-01T21:32:00.434Z"
   },
   {
    "duration": 21,
    "start_time": "2023-08-01T21:32:00.508Z"
   },
   {
    "duration": 55,
    "start_time": "2023-08-01T21:32:00.531Z"
   },
   {
    "duration": 39,
    "start_time": "2023-08-01T21:32:00.589Z"
   },
   {
    "duration": 28,
    "start_time": "2023-08-01T21:32:00.630Z"
   },
   {
    "duration": 46,
    "start_time": "2023-08-01T21:32:00.660Z"
   },
   {
    "duration": 220,
    "start_time": "2023-08-01T21:32:00.708Z"
   },
   {
    "duration": 150,
    "start_time": "2023-08-01T21:32:00.931Z"
   },
   {
    "duration": 12,
    "start_time": "2023-08-01T21:32:01.084Z"
   },
   {
    "duration": 49,
    "start_time": "2023-08-01T21:32:01.098Z"
   },
   {
    "duration": 377,
    "start_time": "2023-08-01T21:32:01.149Z"
   },
   {
    "duration": 334,
    "start_time": "2023-08-01T21:32:01.528Z"
   },
   {
    "duration": 469,
    "start_time": "2023-08-01T21:32:01.866Z"
   },
   {
    "duration": 448,
    "start_time": "2023-08-01T21:32:02.338Z"
   },
   {
    "duration": 489,
    "start_time": "2023-08-01T21:32:02.789Z"
   },
   {
    "duration": 183,
    "start_time": "2023-08-01T21:32:03.280Z"
   },
   {
    "duration": 236,
    "start_time": "2023-08-01T21:32:03.467Z"
   },
   {
    "duration": 6,
    "start_time": "2023-08-01T21:32:03.705Z"
   },
   {
    "duration": 315,
    "start_time": "2023-08-01T21:32:03.712Z"
   },
   {
    "duration": 533,
    "start_time": "2023-08-01T21:32:04.029Z"
   },
   {
    "duration": 25,
    "start_time": "2023-08-01T21:32:04.564Z"
   },
   {
    "duration": 26,
    "start_time": "2023-08-01T21:32:04.594Z"
   },
   {
    "duration": 249,
    "start_time": "2023-08-01T21:32:04.622Z"
   },
   {
    "duration": 178,
    "start_time": "2023-08-01T21:32:04.874Z"
   },
   {
    "duration": 18,
    "start_time": "2023-08-01T21:32:05.054Z"
   },
   {
    "duration": 176,
    "start_time": "2023-08-01T21:32:05.076Z"
   },
   {
    "duration": 23,
    "start_time": "2023-08-01T21:32:05.254Z"
   },
   {
    "duration": 21,
    "start_time": "2023-08-01T21:32:05.280Z"
   },
   {
    "duration": 29,
    "start_time": "2023-08-01T21:32:05.302Z"
   },
   {
    "duration": 2376,
    "start_time": "2023-08-01T21:32:05.333Z"
   },
   {
    "duration": 0,
    "start_time": "2023-08-01T21:32:07.711Z"
   },
   {
    "duration": 0,
    "start_time": "2023-08-01T21:32:07.712Z"
   },
   {
    "duration": 1324,
    "start_time": "2023-08-01T21:34:12.595Z"
   },
   {
    "duration": 41,
    "start_time": "2023-08-01T21:34:13.924Z"
   },
   {
    "duration": 6,
    "start_time": "2023-08-01T21:34:13.967Z"
   },
   {
    "duration": 25,
    "start_time": "2023-08-01T21:34:13.976Z"
   },
   {
    "duration": 15,
    "start_time": "2023-08-01T21:34:14.004Z"
   },
   {
    "duration": 12,
    "start_time": "2023-08-01T21:34:14.021Z"
   },
   {
    "duration": 59,
    "start_time": "2023-08-01T21:34:14.035Z"
   },
   {
    "duration": 23,
    "start_time": "2023-08-01T21:34:14.096Z"
   },
   {
    "duration": 7,
    "start_time": "2023-08-01T21:34:14.121Z"
   },
   {
    "duration": 8,
    "start_time": "2023-08-01T21:34:14.130Z"
   },
   {
    "duration": 16,
    "start_time": "2023-08-01T21:34:14.140Z"
   },
   {
    "duration": 10,
    "start_time": "2023-08-01T21:34:14.158Z"
   },
   {
    "duration": 207,
    "start_time": "2023-08-01T21:34:14.169Z"
   },
   {
    "duration": 139,
    "start_time": "2023-08-01T21:34:14.382Z"
   },
   {
    "duration": 10,
    "start_time": "2023-08-01T21:34:14.523Z"
   },
   {
    "duration": 9,
    "start_time": "2023-08-01T21:34:14.534Z"
   },
   {
    "duration": 340,
    "start_time": "2023-08-01T21:34:14.544Z"
   },
   {
    "duration": 373,
    "start_time": "2023-08-01T21:34:14.886Z"
   },
   {
    "duration": 463,
    "start_time": "2023-08-01T21:34:15.269Z"
   },
   {
    "duration": 403,
    "start_time": "2023-08-01T21:34:15.734Z"
   },
   {
    "duration": 469,
    "start_time": "2023-08-01T21:34:16.138Z"
   },
   {
    "duration": 187,
    "start_time": "2023-08-01T21:34:16.608Z"
   },
   {
    "duration": 204,
    "start_time": "2023-08-01T21:34:16.797Z"
   },
   {
    "duration": 7,
    "start_time": "2023-08-01T21:34:17.003Z"
   },
   {
    "duration": 306,
    "start_time": "2023-08-01T21:34:17.011Z"
   },
   {
    "duration": 508,
    "start_time": "2023-08-01T21:34:17.318Z"
   },
   {
    "duration": 5,
    "start_time": "2023-08-01T21:34:17.829Z"
   },
   {
    "duration": 12,
    "start_time": "2023-08-01T21:34:17.836Z"
   },
   {
    "duration": 265,
    "start_time": "2023-08-01T21:34:17.849Z"
   },
   {
    "duration": 169,
    "start_time": "2023-08-01T21:34:18.116Z"
   },
   {
    "duration": 4,
    "start_time": "2023-08-01T21:34:18.289Z"
   },
   {
    "duration": 26,
    "start_time": "2023-08-01T21:34:18.295Z"
   },
   {
    "duration": 11,
    "start_time": "2023-08-01T21:34:18.323Z"
   },
   {
    "duration": 18,
    "start_time": "2023-08-01T21:34:18.335Z"
   },
   {
    "duration": 2737,
    "start_time": "2023-08-01T21:34:18.369Z"
   },
   {
    "duration": 0,
    "start_time": "2023-08-01T21:34:21.108Z"
   },
   {
    "duration": 0,
    "start_time": "2023-08-01T21:34:21.109Z"
   },
   {
    "duration": 9,
    "start_time": "2023-08-01T21:34:51.909Z"
   },
   {
    "duration": 1294,
    "start_time": "2023-08-01T21:36:38.431Z"
   },
   {
    "duration": 38,
    "start_time": "2023-08-01T21:36:39.727Z"
   },
   {
    "duration": 8,
    "start_time": "2023-08-01T21:36:39.766Z"
   },
   {
    "duration": 34,
    "start_time": "2023-08-01T21:36:39.781Z"
   },
   {
    "duration": 26,
    "start_time": "2023-08-01T21:36:39.817Z"
   },
   {
    "duration": 43,
    "start_time": "2023-08-01T21:36:39.845Z"
   },
   {
    "duration": 69,
    "start_time": "2023-08-01T21:36:39.894Z"
   },
   {
    "duration": 41,
    "start_time": "2023-08-01T21:36:39.966Z"
   },
   {
    "duration": 8,
    "start_time": "2023-08-01T21:36:40.009Z"
   },
   {
    "duration": 32,
    "start_time": "2023-08-01T21:36:40.020Z"
   },
   {
    "duration": 44,
    "start_time": "2023-08-01T21:36:40.054Z"
   },
   {
    "duration": 19,
    "start_time": "2023-08-01T21:36:40.100Z"
   },
   {
    "duration": 208,
    "start_time": "2023-08-01T21:36:40.120Z"
   },
   {
    "duration": 133,
    "start_time": "2023-08-01T21:36:40.329Z"
   },
   {
    "duration": 25,
    "start_time": "2023-08-01T21:36:40.463Z"
   },
   {
    "duration": 10,
    "start_time": "2023-08-01T21:36:40.490Z"
   },
   {
    "duration": 349,
    "start_time": "2023-08-01T21:36:40.501Z"
   },
   {
    "duration": 353,
    "start_time": "2023-08-01T21:36:40.852Z"
   },
   {
    "duration": 429,
    "start_time": "2023-08-01T21:36:41.207Z"
   },
   {
    "duration": 400,
    "start_time": "2023-08-01T21:36:41.637Z"
   },
   {
    "duration": 458,
    "start_time": "2023-08-01T21:36:42.039Z"
   },
   {
    "duration": 184,
    "start_time": "2023-08-01T21:36:42.499Z"
   },
   {
    "duration": 218,
    "start_time": "2023-08-01T21:36:42.689Z"
   },
   {
    "duration": 5,
    "start_time": "2023-08-01T21:36:42.909Z"
   },
   {
    "duration": 307,
    "start_time": "2023-08-01T21:36:42.916Z"
   },
   {
    "duration": 485,
    "start_time": "2023-08-01T21:36:43.225Z"
   },
   {
    "duration": 6,
    "start_time": "2023-08-01T21:36:43.712Z"
   },
   {
    "duration": 14,
    "start_time": "2023-08-01T21:36:43.722Z"
   },
   {
    "duration": 259,
    "start_time": "2023-08-01T21:36:43.738Z"
   },
   {
    "duration": 223,
    "start_time": "2023-08-01T21:36:43.999Z"
   },
   {
    "duration": 35,
    "start_time": "2023-08-01T21:36:44.225Z"
   },
   {
    "duration": 33,
    "start_time": "2023-08-01T21:36:44.266Z"
   },
   {
    "duration": 34,
    "start_time": "2023-08-01T21:36:44.301Z"
   },
   {
    "duration": 43,
    "start_time": "2023-08-01T21:36:44.337Z"
   },
   {
    "duration": 65,
    "start_time": "2023-08-01T21:36:44.382Z"
   },
   {
    "duration": 15,
    "start_time": "2023-08-01T21:36:44.448Z"
   },
   {
    "duration": 13,
    "start_time": "2023-08-01T21:36:57.853Z"
   },
   {
    "duration": 1314,
    "start_time": "2023-08-01T21:41:51.447Z"
   },
   {
    "duration": 49,
    "start_time": "2023-08-01T21:41:52.763Z"
   },
   {
    "duration": 6,
    "start_time": "2023-08-01T21:41:52.814Z"
   },
   {
    "duration": 18,
    "start_time": "2023-08-01T21:41:52.823Z"
   },
   {
    "duration": 12,
    "start_time": "2023-08-01T21:41:52.842Z"
   },
   {
    "duration": 11,
    "start_time": "2023-08-01T21:41:52.855Z"
   },
   {
    "duration": 58,
    "start_time": "2023-08-01T21:41:52.871Z"
   },
   {
    "duration": 21,
    "start_time": "2023-08-01T21:41:52.931Z"
   },
   {
    "duration": 6,
    "start_time": "2023-08-01T21:41:52.953Z"
   },
   {
    "duration": 20,
    "start_time": "2023-08-01T21:41:52.961Z"
   },
   {
    "duration": 18,
    "start_time": "2023-08-01T21:41:52.983Z"
   },
   {
    "duration": 7,
    "start_time": "2023-08-01T21:41:53.003Z"
   },
   {
    "duration": 190,
    "start_time": "2023-08-01T21:41:53.012Z"
   },
   {
    "duration": 130,
    "start_time": "2023-08-01T21:41:53.204Z"
   },
   {
    "duration": 10,
    "start_time": "2023-08-01T21:41:53.336Z"
   },
   {
    "duration": 22,
    "start_time": "2023-08-01T21:41:53.347Z"
   },
   {
    "duration": 321,
    "start_time": "2023-08-01T21:41:53.377Z"
   },
   {
    "duration": 363,
    "start_time": "2023-08-01T21:41:53.700Z"
   },
   {
    "duration": 472,
    "start_time": "2023-08-01T21:41:54.067Z"
   },
   {
    "duration": 433,
    "start_time": "2023-08-01T21:41:54.541Z"
   },
   {
    "duration": 449,
    "start_time": "2023-08-01T21:41:54.978Z"
   },
   {
    "duration": 177,
    "start_time": "2023-08-01T21:41:55.429Z"
   },
   {
    "duration": 207,
    "start_time": "2023-08-01T21:41:55.607Z"
   },
   {
    "duration": 6,
    "start_time": "2023-08-01T21:41:55.816Z"
   },
   {
    "duration": 313,
    "start_time": "2023-08-01T21:41:55.824Z"
   },
   {
    "duration": 492,
    "start_time": "2023-08-01T21:41:56.139Z"
   },
   {
    "duration": 5,
    "start_time": "2023-08-01T21:41:56.633Z"
   },
   {
    "duration": 7,
    "start_time": "2023-08-01T21:41:56.642Z"
   },
   {
    "duration": 281,
    "start_time": "2023-08-01T21:41:56.650Z"
   },
   {
    "duration": 170,
    "start_time": "2023-08-01T21:41:56.933Z"
   },
   {
    "duration": 29,
    "start_time": "2023-08-01T21:41:57.105Z"
   },
   {
    "duration": 13,
    "start_time": "2023-08-01T21:41:57.136Z"
   },
   {
    "duration": 38,
    "start_time": "2023-08-01T21:41:57.151Z"
   },
   {
    "duration": 11,
    "start_time": "2023-08-01T21:41:57.191Z"
   },
   {
    "duration": 26,
    "start_time": "2023-08-01T21:41:57.204Z"
   },
   {
    "duration": 14,
    "start_time": "2023-08-01T21:41:57.231Z"
   },
   {
    "duration": 449,
    "start_time": "2023-08-01T23:34:10.134Z"
   },
   {
    "duration": 448,
    "start_time": "2023-08-01T23:34:25.039Z"
   },
   {
    "duration": 1319,
    "start_time": "2023-08-01T23:35:19.101Z"
   },
   {
    "duration": 38,
    "start_time": "2023-08-01T23:35:20.422Z"
   },
   {
    "duration": 6,
    "start_time": "2023-08-01T23:35:20.463Z"
   },
   {
    "duration": 14,
    "start_time": "2023-08-01T23:35:20.471Z"
   },
   {
    "duration": 14,
    "start_time": "2023-08-01T23:35:20.487Z"
   },
   {
    "duration": 17,
    "start_time": "2023-08-01T23:35:20.502Z"
   },
   {
    "duration": 56,
    "start_time": "2023-08-01T23:35:20.520Z"
   },
   {
    "duration": 20,
    "start_time": "2023-08-01T23:35:20.578Z"
   },
   {
    "duration": 6,
    "start_time": "2023-08-01T23:35:20.600Z"
   },
   {
    "duration": 17,
    "start_time": "2023-08-01T23:35:20.609Z"
   },
   {
    "duration": 14,
    "start_time": "2023-08-01T23:35:20.628Z"
   },
   {
    "duration": 8,
    "start_time": "2023-08-01T23:35:20.643Z"
   },
   {
    "duration": 177,
    "start_time": "2023-08-01T23:35:20.652Z"
   },
   {
    "duration": 136,
    "start_time": "2023-08-01T23:35:20.831Z"
   },
   {
    "duration": 13,
    "start_time": "2023-08-01T23:35:20.969Z"
   },
   {
    "duration": 12,
    "start_time": "2023-08-01T23:35:20.984Z"
   },
   {
    "duration": 323,
    "start_time": "2023-08-01T23:35:20.997Z"
   },
   {
    "duration": 311,
    "start_time": "2023-08-01T23:35:21.322Z"
   },
   {
    "duration": 471,
    "start_time": "2023-08-01T23:35:21.635Z"
   },
   {
    "duration": 373,
    "start_time": "2023-08-01T23:35:22.108Z"
   },
   {
    "duration": 425,
    "start_time": "2023-08-01T23:35:22.483Z"
   },
   {
    "duration": 175,
    "start_time": "2023-08-01T23:35:22.909Z"
   },
   {
    "duration": 201,
    "start_time": "2023-08-01T23:35:23.086Z"
   },
   {
    "duration": 5,
    "start_time": "2023-08-01T23:35:23.289Z"
   },
   {
    "duration": 263,
    "start_time": "2023-08-01T23:35:23.296Z"
   },
   {
    "duration": 449,
    "start_time": "2023-08-01T23:35:23.566Z"
   },
   {
    "duration": 5,
    "start_time": "2023-08-01T23:35:24.017Z"
   },
   {
    "duration": 6,
    "start_time": "2023-08-01T23:35:24.024Z"
   },
   {
    "duration": 219,
    "start_time": "2023-08-01T23:35:24.031Z"
   },
   {
    "duration": 147,
    "start_time": "2023-08-01T23:35:24.252Z"
   },
   {
    "duration": 25,
    "start_time": "2023-08-01T23:35:24.401Z"
   },
   {
    "duration": 11,
    "start_time": "2023-08-01T23:35:24.427Z"
   },
   {
    "duration": 28,
    "start_time": "2023-08-01T23:35:24.439Z"
   },
   {
    "duration": 74,
    "start_time": "2023-08-01T23:35:24.469Z"
   },
   {
    "duration": 39,
    "start_time": "2023-08-01T23:35:24.544Z"
   },
   {
    "duration": 13,
    "start_time": "2023-08-01T23:35:24.585Z"
   },
   {
    "duration": 307,
    "start_time": "2023-08-01T23:41:48.058Z"
   },
   {
    "duration": 1221,
    "start_time": "2023-08-01T23:42:03.668Z"
   },
   {
    "duration": 38,
    "start_time": "2023-08-01T23:42:04.891Z"
   },
   {
    "duration": 6,
    "start_time": "2023-08-01T23:42:04.930Z"
   },
   {
    "duration": 14,
    "start_time": "2023-08-01T23:42:04.938Z"
   },
   {
    "duration": 13,
    "start_time": "2023-08-01T23:42:04.953Z"
   },
   {
    "duration": 15,
    "start_time": "2023-08-01T23:42:04.968Z"
   },
   {
    "duration": 70,
    "start_time": "2023-08-01T23:42:04.985Z"
   },
   {
    "duration": 20,
    "start_time": "2023-08-01T23:42:05.057Z"
   },
   {
    "duration": 5,
    "start_time": "2023-08-01T23:42:05.080Z"
   },
   {
    "duration": 7,
    "start_time": "2023-08-01T23:42:05.088Z"
   },
   {
    "duration": 15,
    "start_time": "2023-08-01T23:42:05.097Z"
   },
   {
    "duration": 13,
    "start_time": "2023-08-01T23:42:05.113Z"
   },
   {
    "duration": 173,
    "start_time": "2023-08-01T23:42:05.128Z"
   },
   {
    "duration": 124,
    "start_time": "2023-08-01T23:42:05.303Z"
   },
   {
    "duration": 9,
    "start_time": "2023-08-01T23:42:05.429Z"
   },
   {
    "duration": 13,
    "start_time": "2023-08-01T23:42:05.440Z"
   },
   {
    "duration": 327,
    "start_time": "2023-08-01T23:42:05.454Z"
   },
   {
    "duration": 310,
    "start_time": "2023-08-01T23:42:05.782Z"
   },
   {
    "duration": 415,
    "start_time": "2023-08-01T23:42:06.093Z"
   },
   {
    "duration": 359,
    "start_time": "2023-08-01T23:42:06.510Z"
   },
   {
    "duration": 427,
    "start_time": "2023-08-01T23:42:06.871Z"
   },
   {
    "duration": 165,
    "start_time": "2023-08-01T23:42:07.300Z"
   },
   {
    "duration": 193,
    "start_time": "2023-08-01T23:42:07.467Z"
   },
   {
    "duration": 5,
    "start_time": "2023-08-01T23:42:07.666Z"
   },
   {
    "duration": 267,
    "start_time": "2023-08-01T23:42:07.673Z"
   },
   {
    "duration": 443,
    "start_time": "2023-08-01T23:42:07.942Z"
   },
   {
    "duration": 5,
    "start_time": "2023-08-01T23:42:08.387Z"
   },
   {
    "duration": 7,
    "start_time": "2023-08-01T23:42:08.395Z"
   },
   {
    "duration": 235,
    "start_time": "2023-08-01T23:42:08.404Z"
   },
   {
    "duration": 150,
    "start_time": "2023-08-01T23:42:08.640Z"
   },
   {
    "duration": 25,
    "start_time": "2023-08-01T23:42:08.792Z"
   },
   {
    "duration": 10,
    "start_time": "2023-08-01T23:42:08.818Z"
   },
   {
    "duration": 11,
    "start_time": "2023-08-01T23:42:08.830Z"
   },
   {
    "duration": 10,
    "start_time": "2023-08-01T23:42:08.867Z"
   },
   {
    "duration": 23,
    "start_time": "2023-08-01T23:42:08.879Z"
   },
   {
    "duration": 31,
    "start_time": "2023-08-01T23:42:08.904Z"
   },
   {
    "duration": 1357,
    "start_time": "2023-08-02T02:01:48.966Z"
   },
   {
    "duration": 80,
    "start_time": "2023-08-02T02:01:50.325Z"
   },
   {
    "duration": 20,
    "start_time": "2023-08-02T02:01:50.407Z"
   },
   {
    "duration": 66,
    "start_time": "2023-08-02T02:01:50.429Z"
   },
   {
    "duration": 65,
    "start_time": "2023-08-02T02:01:50.498Z"
   },
   {
    "duration": 75,
    "start_time": "2023-08-02T02:01:50.564Z"
   },
   {
    "duration": 111,
    "start_time": "2023-08-02T02:01:50.641Z"
   },
   {
    "duration": 64,
    "start_time": "2023-08-02T02:01:50.754Z"
   },
   {
    "duration": 6,
    "start_time": "2023-08-02T02:01:50.820Z"
   },
   {
    "duration": 15,
    "start_time": "2023-08-02T02:01:50.828Z"
   },
   {
    "duration": 16,
    "start_time": "2023-08-02T02:01:50.845Z"
   },
   {
    "duration": 22,
    "start_time": "2023-08-02T02:01:50.863Z"
   },
   {
    "duration": 191,
    "start_time": "2023-08-02T02:01:50.886Z"
   },
   {
    "duration": 123,
    "start_time": "2023-08-02T02:01:51.078Z"
   },
   {
    "duration": 16,
    "start_time": "2023-08-02T02:01:51.203Z"
   },
   {
    "duration": 21,
    "start_time": "2023-08-02T02:01:51.222Z"
   },
   {
    "duration": 470,
    "start_time": "2023-08-02T02:01:51.245Z"
   },
   {
    "duration": 448,
    "start_time": "2023-08-02T02:01:51.718Z"
   },
   {
    "duration": 591,
    "start_time": "2023-08-02T02:01:52.168Z"
   },
   {
    "duration": 486,
    "start_time": "2023-08-02T02:01:52.761Z"
   },
   {
    "duration": 560,
    "start_time": "2023-08-02T02:01:53.249Z"
   },
   {
    "duration": 322,
    "start_time": "2023-08-02T02:01:53.811Z"
   },
   {
    "duration": 328,
    "start_time": "2023-08-02T02:01:54.135Z"
   },
   {
    "duration": 5,
    "start_time": "2023-08-02T02:01:54.465Z"
   },
   {
    "duration": 386,
    "start_time": "2023-08-02T02:01:54.471Z"
   },
   {
    "duration": 662,
    "start_time": "2023-08-02T02:01:54.859Z"
   },
   {
    "duration": 5,
    "start_time": "2023-08-02T02:01:55.524Z"
   },
   {
    "duration": 17,
    "start_time": "2023-08-02T02:01:55.533Z"
   },
   {
    "duration": 230,
    "start_time": "2023-08-02T02:01:55.551Z"
   },
   {
    "duration": 166,
    "start_time": "2023-08-02T02:01:55.783Z"
   },
   {
    "duration": 26,
    "start_time": "2023-08-02T02:01:55.951Z"
   },
   {
    "duration": 18,
    "start_time": "2023-08-02T02:01:55.987Z"
   },
   {
    "duration": 17,
    "start_time": "2023-08-02T02:01:56.007Z"
   },
   {
    "duration": 22,
    "start_time": "2023-08-02T02:01:56.026Z"
   },
   {
    "duration": 37,
    "start_time": "2023-08-02T02:01:56.050Z"
   },
   {
    "duration": 21,
    "start_time": "2023-08-02T02:01:56.089Z"
   },
   {
    "duration": 45,
    "start_time": "2023-08-02T17:23:05.981Z"
   },
   {
    "duration": 1232,
    "start_time": "2023-08-02T17:23:19.950Z"
   },
   {
    "duration": 3,
    "start_time": "2023-08-02T17:23:23.235Z"
   },
   {
    "duration": 72,
    "start_time": "2023-08-02T17:23:23.739Z"
   },
   {
    "duration": 6,
    "start_time": "2023-08-02T17:23:23.991Z"
   },
   {
    "duration": 9,
    "start_time": "2023-08-02T17:23:24.618Z"
   },
   {
    "duration": 3,
    "start_time": "2023-08-02T17:23:26.592Z"
   },
   {
    "duration": 9,
    "start_time": "2023-08-02T17:43:13.281Z"
   },
   {
    "duration": 11,
    "start_time": "2023-08-02T17:45:24.873Z"
   },
   {
    "duration": 11,
    "start_time": "2023-08-02T17:46:07.985Z"
   },
   {
    "duration": 10,
    "start_time": "2023-08-02T17:47:15.113Z"
   },
   {
    "duration": 9,
    "start_time": "2023-08-02T17:47:34.363Z"
   },
   {
    "duration": 57,
    "start_time": "2023-08-02T17:51:06.115Z"
   },
   {
    "duration": 95,
    "start_time": "2023-08-02T17:51:20.538Z"
   },
   {
    "duration": 57,
    "start_time": "2023-08-02T17:51:20.993Z"
   },
   {
    "duration": 6,
    "start_time": "2023-08-02T17:51:21.369Z"
   },
   {
    "duration": 5,
    "start_time": "2023-08-02T17:51:21.546Z"
   },
   {
    "duration": 8,
    "start_time": "2023-08-02T17:51:21.739Z"
   },
   {
    "duration": 7,
    "start_time": "2023-08-02T17:51:21.922Z"
   },
   {
    "duration": 14,
    "start_time": "2023-08-02T17:51:22.914Z"
   },
   {
    "duration": 76,
    "start_time": "2023-08-02T17:51:23.618Z"
   },
   {
    "duration": 5,
    "start_time": "2023-08-02T17:51:33.433Z"
   },
   {
    "duration": 11,
    "start_time": "2023-08-02T17:52:08.059Z"
   },
   {
    "duration": 10,
    "start_time": "2023-08-02T17:52:26.931Z"
   },
   {
    "duration": 4,
    "start_time": "2023-08-02T17:53:07.355Z"
   },
   {
    "duration": 12,
    "start_time": "2023-08-02T17:53:38.900Z"
   },
   {
    "duration": 89,
    "start_time": "2023-08-02T17:54:25.813Z"
   },
   {
    "duration": 12,
    "start_time": "2023-08-02T17:59:34.695Z"
   },
   {
    "duration": 6,
    "start_time": "2023-08-02T17:59:50.935Z"
   },
   {
    "duration": 5,
    "start_time": "2023-08-02T18:00:08.335Z"
   },
   {
    "duration": 3,
    "start_time": "2023-08-02T18:00:34.794Z"
   },
   {
    "duration": 6,
    "start_time": "2023-08-02T18:00:43.664Z"
   },
   {
    "duration": 6,
    "start_time": "2023-08-02T18:00:50.367Z"
   },
   {
    "duration": 4,
    "start_time": "2023-08-02T18:01:31.536Z"
   },
   {
    "duration": 151,
    "start_time": "2023-08-02T18:01:53.160Z"
   },
   {
    "duration": 7,
    "start_time": "2023-08-02T18:01:58.249Z"
   },
   {
    "duration": 7,
    "start_time": "2023-08-02T18:02:07.921Z"
   },
   {
    "duration": 4,
    "start_time": "2023-08-02T18:02:12.875Z"
   },
   {
    "duration": 3,
    "start_time": "2023-08-02T18:02:39.748Z"
   },
   {
    "duration": 3,
    "start_time": "2023-08-02T18:09:21.204Z"
   },
   {
    "duration": 4,
    "start_time": "2023-08-02T18:09:22.452Z"
   },
   {
    "duration": 7,
    "start_time": "2023-08-02T18:09:32.685Z"
   },
   {
    "duration": 3,
    "start_time": "2023-08-02T18:09:41.429Z"
   },
   {
    "duration": 3,
    "start_time": "2023-08-02T18:10:05.077Z"
   },
   {
    "duration": 8,
    "start_time": "2023-08-02T18:11:36.887Z"
   },
   {
    "duration": 149,
    "start_time": "2023-08-02T18:11:46.911Z"
   },
   {
    "duration": 109,
    "start_time": "2023-08-02T18:11:47.141Z"
   },
   {
    "duration": 9,
    "start_time": "2023-08-02T18:11:47.406Z"
   },
   {
    "duration": 5,
    "start_time": "2023-08-02T18:11:48.301Z"
   },
   {
    "duration": 5,
    "start_time": "2023-08-02T18:12:00.287Z"
   },
   {
    "duration": 4,
    "start_time": "2023-08-02T18:12:35.636Z"
   },
   {
    "duration": 4,
    "start_time": "2023-08-02T18:12:44.039Z"
   },
   {
    "duration": 6,
    "start_time": "2023-08-02T18:14:34.024Z"
   },
   {
    "duration": 276,
    "start_time": "2023-08-02T18:14:34.304Z"
   },
   {
    "duration": 286,
    "start_time": "2023-08-02T18:15:36.661Z"
   },
   {
    "duration": 5,
    "start_time": "2023-08-02T18:15:51.273Z"
   },
   {
    "duration": 285,
    "start_time": "2023-08-02T18:15:51.592Z"
   },
   {
    "duration": 1051,
    "start_time": "2023-08-02T18:16:04.081Z"
   },
   {
    "duration": 35,
    "start_time": "2023-08-02T18:16:05.134Z"
   },
   {
    "duration": 5,
    "start_time": "2023-08-02T18:16:05.170Z"
   },
   {
    "duration": 41,
    "start_time": "2023-08-02T18:16:05.177Z"
   },
   {
    "duration": 36,
    "start_time": "2023-08-02T18:16:05.219Z"
   },
   {
    "duration": 30,
    "start_time": "2023-08-02T18:16:05.257Z"
   },
   {
    "duration": 22,
    "start_time": "2023-08-02T18:16:05.288Z"
   },
   {
    "duration": 48,
    "start_time": "2023-08-02T18:16:05.311Z"
   },
   {
    "duration": 10,
    "start_time": "2023-08-02T18:16:05.360Z"
   },
   {
    "duration": 21,
    "start_time": "2023-08-02T18:16:05.372Z"
   },
   {
    "duration": 8,
    "start_time": "2023-08-02T18:16:05.395Z"
   },
   {
    "duration": 18,
    "start_time": "2023-08-02T18:16:05.404Z"
   },
   {
    "duration": 13,
    "start_time": "2023-08-02T18:16:05.423Z"
   },
   {
    "duration": 16,
    "start_time": "2023-08-02T18:16:05.438Z"
   },
   {
    "duration": 13,
    "start_time": "2023-08-02T18:16:05.455Z"
   },
   {
    "duration": 23,
    "start_time": "2023-08-02T18:16:05.469Z"
   },
   {
    "duration": 26,
    "start_time": "2023-08-02T18:16:05.493Z"
   },
   {
    "duration": 19,
    "start_time": "2023-08-02T18:16:05.521Z"
   },
   {
    "duration": 19,
    "start_time": "2023-08-02T18:16:05.542Z"
   },
   {
    "duration": 17,
    "start_time": "2023-08-02T18:16:05.563Z"
   },
   {
    "duration": 13,
    "start_time": "2023-08-02T18:16:05.581Z"
   },
   {
    "duration": 163,
    "start_time": "2023-08-02T18:16:05.596Z"
   },
   {
    "duration": 112,
    "start_time": "2023-08-02T18:16:05.761Z"
   },
   {
    "duration": 9,
    "start_time": "2023-08-02T18:16:05.874Z"
   },
   {
    "duration": 35,
    "start_time": "2023-08-02T18:16:05.884Z"
   },
   {
    "duration": 26,
    "start_time": "2023-08-02T18:16:05.921Z"
   },
   {
    "duration": 25,
    "start_time": "2023-08-02T18:16:05.949Z"
   },
   {
    "duration": 37,
    "start_time": "2023-08-02T18:16:05.976Z"
   },
   {
    "duration": 32,
    "start_time": "2023-08-02T18:16:06.014Z"
   },
   {
    "duration": 377,
    "start_time": "2023-08-02T18:16:06.047Z"
   },
   {
    "duration": 171,
    "start_time": "2023-08-02T18:16:06.431Z"
   },
   {
    "duration": 340,
    "start_time": "2023-08-02T18:16:06.604Z"
   },
   {
    "duration": 223,
    "start_time": "2023-08-02T18:16:06.945Z"
   },
   {
    "duration": 315,
    "start_time": "2023-08-02T18:16:07.170Z"
   },
   {
    "duration": 148,
    "start_time": "2023-08-02T18:16:07.486Z"
   },
   {
    "duration": 169,
    "start_time": "2023-08-02T18:16:07.635Z"
   },
   {
    "duration": 5,
    "start_time": "2023-08-02T18:16:07.805Z"
   },
   {
    "duration": 169,
    "start_time": "2023-08-02T18:16:07.811Z"
   },
   {
    "duration": 471,
    "start_time": "2023-08-02T18:16:07.982Z"
   },
   {
    "duration": 4,
    "start_time": "2023-08-02T18:16:08.455Z"
   },
   {
    "duration": 16,
    "start_time": "2023-08-02T18:16:08.461Z"
   },
   {
    "duration": 217,
    "start_time": "2023-08-02T18:16:08.479Z"
   },
   {
    "duration": 123,
    "start_time": "2023-08-02T18:16:08.698Z"
   },
   {
    "duration": 29,
    "start_time": "2023-08-02T18:16:08.822Z"
   },
   {
    "duration": 10,
    "start_time": "2023-08-02T18:16:08.853Z"
   },
   {
    "duration": 223,
    "start_time": "2023-08-02T18:16:08.864Z"
   },
   {
    "duration": 14,
    "start_time": "2023-08-02T18:16:09.089Z"
   },
   {
    "duration": 30,
    "start_time": "2023-08-02T18:16:09.104Z"
   },
   {
    "duration": 12,
    "start_time": "2023-08-02T18:16:09.135Z"
   },
   {
    "duration": 97,
    "start_time": "2023-08-02T18:17:02.459Z"
   },
   {
    "duration": 192,
    "start_time": "2023-08-02T18:17:07.491Z"
   },
   {
    "duration": 209,
    "start_time": "2023-08-02T18:18:13.666Z"
   },
   {
    "duration": 140,
    "start_time": "2023-08-02T18:18:33.556Z"
   },
   {
    "duration": 126,
    "start_time": "2023-08-02T18:19:04.653Z"
   },
   {
    "duration": 150,
    "start_time": "2023-08-02T18:20:22.884Z"
   },
   {
    "duration": 153,
    "start_time": "2023-08-02T18:20:38.078Z"
   },
   {
    "duration": 5,
    "start_time": "2023-08-02T18:21:07.373Z"
   },
   {
    "duration": 5,
    "start_time": "2023-08-02T18:21:11.162Z"
   },
   {
    "duration": 4,
    "start_time": "2023-08-02T18:21:14.517Z"
   },
   {
    "duration": 1043,
    "start_time": "2023-08-02T18:21:55.622Z"
   },
   {
    "duration": 35,
    "start_time": "2023-08-02T18:21:56.667Z"
   },
   {
    "duration": 4,
    "start_time": "2023-08-02T18:21:56.703Z"
   },
   {
    "duration": 9,
    "start_time": "2023-08-02T18:21:56.709Z"
   },
   {
    "duration": 16,
    "start_time": "2023-08-02T18:21:56.719Z"
   },
   {
    "duration": 12,
    "start_time": "2023-08-02T18:21:56.736Z"
   },
   {
    "duration": 13,
    "start_time": "2023-08-02T18:21:56.749Z"
   },
   {
    "duration": 43,
    "start_time": "2023-08-02T18:21:56.763Z"
   },
   {
    "duration": 10,
    "start_time": "2023-08-02T18:21:56.807Z"
   },
   {
    "duration": 79,
    "start_time": "2023-08-02T18:21:56.819Z"
   },
   {
    "duration": 9,
    "start_time": "2023-08-02T18:21:56.900Z"
   },
   {
    "duration": 17,
    "start_time": "2023-08-02T18:21:56.910Z"
   },
   {
    "duration": 11,
    "start_time": "2023-08-02T18:21:56.928Z"
   },
   {
    "duration": 9,
    "start_time": "2023-08-02T18:21:56.941Z"
   },
   {
    "duration": 8,
    "start_time": "2023-08-02T18:21:56.952Z"
   },
   {
    "duration": 21,
    "start_time": "2023-08-02T18:21:56.962Z"
   },
   {
    "duration": 60,
    "start_time": "2023-08-02T18:21:56.984Z"
   },
   {
    "duration": 11,
    "start_time": "2023-08-02T18:21:57.046Z"
   },
   {
    "duration": 7,
    "start_time": "2023-08-02T18:21:57.058Z"
   },
   {
    "duration": 8,
    "start_time": "2023-08-02T18:21:57.066Z"
   },
   {
    "duration": 4,
    "start_time": "2023-08-02T18:21:57.076Z"
   },
   {
    "duration": 150,
    "start_time": "2023-08-02T18:21:57.082Z"
   },
   {
    "duration": 119,
    "start_time": "2023-08-02T18:21:57.233Z"
   },
   {
    "duration": 8,
    "start_time": "2023-08-02T18:21:57.354Z"
   },
   {
    "duration": 6,
    "start_time": "2023-08-02T18:21:57.364Z"
   },
   {
    "duration": 12,
    "start_time": "2023-08-02T18:21:57.372Z"
   },
   {
    "duration": 6,
    "start_time": "2023-08-02T18:21:57.385Z"
   },
   {
    "duration": 10,
    "start_time": "2023-08-02T18:21:57.394Z"
   },
   {
    "duration": 14,
    "start_time": "2023-08-02T18:21:57.405Z"
   },
   {
    "duration": 269,
    "start_time": "2023-08-02T18:21:57.420Z"
   },
   {
    "duration": 225,
    "start_time": "2023-08-02T18:21:57.690Z"
   },
   {
    "duration": 366,
    "start_time": "2023-08-02T18:21:57.916Z"
   },
   {
    "duration": 226,
    "start_time": "2023-08-02T18:21:58.284Z"
   },
   {
    "duration": 358,
    "start_time": "2023-08-02T18:21:58.511Z"
   },
   {
    "duration": 145,
    "start_time": "2023-08-02T18:21:58.871Z"
   },
   {
    "duration": 162,
    "start_time": "2023-08-02T18:21:59.018Z"
   },
   {
    "duration": 4,
    "start_time": "2023-08-02T18:21:59.182Z"
   },
   {
    "duration": 156,
    "start_time": "2023-08-02T18:21:59.188Z"
   },
   {
    "duration": 470,
    "start_time": "2023-08-02T18:21:59.346Z"
   },
   {
    "duration": 5,
    "start_time": "2023-08-02T18:21:59.817Z"
   },
   {
    "duration": 4,
    "start_time": "2023-08-02T18:21:59.832Z"
   },
   {
    "duration": 232,
    "start_time": "2023-08-02T18:21:59.837Z"
   },
   {
    "duration": 143,
    "start_time": "2023-08-02T18:22:00.071Z"
   },
   {
    "duration": 32,
    "start_time": "2023-08-02T18:22:00.216Z"
   },
   {
    "duration": 11,
    "start_time": "2023-08-02T18:22:00.250Z"
   },
   {
    "duration": 14,
    "start_time": "2023-08-02T18:22:00.263Z"
   },
   {
    "duration": 18,
    "start_time": "2023-08-02T18:22:00.279Z"
   },
   {
    "duration": 35,
    "start_time": "2023-08-02T18:22:00.299Z"
   },
   {
    "duration": 16,
    "start_time": "2023-08-02T18:22:00.336Z"
   },
   {
    "duration": 1055,
    "start_time": "2023-08-02T18:22:17.121Z"
   },
   {
    "duration": 37,
    "start_time": "2023-08-02T18:22:18.177Z"
   },
   {
    "duration": 5,
    "start_time": "2023-08-02T18:22:18.216Z"
   },
   {
    "duration": 17,
    "start_time": "2023-08-02T18:22:18.223Z"
   },
   {
    "duration": 13,
    "start_time": "2023-08-02T18:22:18.242Z"
   },
   {
    "duration": 15,
    "start_time": "2023-08-02T18:22:18.256Z"
   },
   {
    "duration": 16,
    "start_time": "2023-08-02T18:22:18.272Z"
   },
   {
    "duration": 49,
    "start_time": "2023-08-02T18:22:18.290Z"
   },
   {
    "duration": 10,
    "start_time": "2023-08-02T18:22:18.340Z"
   },
   {
    "duration": 23,
    "start_time": "2023-08-02T18:22:18.352Z"
   },
   {
    "duration": 9,
    "start_time": "2023-08-02T18:22:18.376Z"
   },
   {
    "duration": 7,
    "start_time": "2023-08-02T18:22:18.387Z"
   },
   {
    "duration": 12,
    "start_time": "2023-08-02T18:22:18.395Z"
   },
   {
    "duration": 11,
    "start_time": "2023-08-02T18:22:18.408Z"
   },
   {
    "duration": 17,
    "start_time": "2023-08-02T18:22:18.420Z"
   },
   {
    "duration": 36,
    "start_time": "2023-08-02T18:22:18.438Z"
   },
   {
    "duration": 7,
    "start_time": "2023-08-02T18:22:18.476Z"
   },
   {
    "duration": 20,
    "start_time": "2023-08-02T18:22:18.484Z"
   },
   {
    "duration": 11,
    "start_time": "2023-08-02T18:22:18.506Z"
   },
   {
    "duration": 10,
    "start_time": "2023-08-02T18:22:18.518Z"
   },
   {
    "duration": 14,
    "start_time": "2023-08-02T18:22:18.529Z"
   },
   {
    "duration": 156,
    "start_time": "2023-08-02T18:22:18.544Z"
   },
   {
    "duration": 115,
    "start_time": "2023-08-02T18:22:18.702Z"
   },
   {
    "duration": 16,
    "start_time": "2023-08-02T18:22:18.819Z"
   },
   {
    "duration": 4,
    "start_time": "2023-08-02T18:22:18.836Z"
   },
   {
    "duration": 11,
    "start_time": "2023-08-02T18:22:18.842Z"
   },
   {
    "duration": 7,
    "start_time": "2023-08-02T18:22:18.854Z"
   },
   {
    "duration": 4,
    "start_time": "2023-08-02T18:22:18.864Z"
   },
   {
    "duration": 7,
    "start_time": "2023-08-02T18:22:18.869Z"
   },
   {
    "duration": 285,
    "start_time": "2023-08-02T18:22:18.877Z"
   },
   {
    "duration": 198,
    "start_time": "2023-08-02T18:22:19.163Z"
   },
   {
    "duration": 305,
    "start_time": "2023-08-02T18:22:19.362Z"
   },
   {
    "duration": 222,
    "start_time": "2023-08-02T18:22:19.668Z"
   },
   {
    "duration": 370,
    "start_time": "2023-08-02T18:22:19.892Z"
   },
   {
    "duration": 141,
    "start_time": "2023-08-02T18:22:20.264Z"
   },
   {
    "duration": 165,
    "start_time": "2023-08-02T18:22:20.407Z"
   },
   {
    "duration": 5,
    "start_time": "2023-08-02T18:22:20.573Z"
   },
   {
    "duration": 156,
    "start_time": "2023-08-02T18:22:20.579Z"
   },
   {
    "duration": 468,
    "start_time": "2023-08-02T18:22:20.736Z"
   },
   {
    "duration": 4,
    "start_time": "2023-08-02T18:22:21.206Z"
   },
   {
    "duration": 21,
    "start_time": "2023-08-02T18:22:21.212Z"
   },
   {
    "duration": 208,
    "start_time": "2023-08-02T18:22:21.235Z"
   },
   {
    "duration": 148,
    "start_time": "2023-08-02T18:22:21.444Z"
   },
   {
    "duration": 24,
    "start_time": "2023-08-02T18:22:21.594Z"
   },
   {
    "duration": 10,
    "start_time": "2023-08-02T18:22:21.631Z"
   },
   {
    "duration": 15,
    "start_time": "2023-08-02T18:22:21.642Z"
   },
   {
    "duration": 15,
    "start_time": "2023-08-02T18:22:21.659Z"
   },
   {
    "duration": 27,
    "start_time": "2023-08-02T18:22:21.676Z"
   },
   {
    "duration": 12,
    "start_time": "2023-08-02T18:22:21.705Z"
   },
   {
    "duration": 211,
    "start_time": "2023-08-02T18:23:55.529Z"
   },
   {
    "duration": 339,
    "start_time": "2023-08-02T18:25:19.312Z"
   },
   {
    "duration": 347,
    "start_time": "2023-08-02T18:25:48.313Z"
   },
   {
    "duration": 215,
    "start_time": "2023-08-02T18:27:11.622Z"
   },
   {
    "duration": 356,
    "start_time": "2023-08-02T18:27:31.114Z"
   },
   {
    "duration": 90,
    "start_time": "2023-08-02T18:28:58.116Z"
   },
   {
    "duration": 227,
    "start_time": "2023-08-02T18:31:24.141Z"
   },
   {
    "duration": 144,
    "start_time": "2023-08-02T18:32:43.651Z"
   },
   {
    "duration": 265,
    "start_time": "2023-08-02T18:34:31.292Z"
   },
   {
    "duration": 242,
    "start_time": "2023-08-02T18:35:01.168Z"
   },
   {
    "duration": 226,
    "start_time": "2023-08-02T18:35:13.725Z"
   },
   {
    "duration": 153,
    "start_time": "2023-08-02T18:36:42.421Z"
   },
   {
    "duration": 152,
    "start_time": "2023-08-02T18:36:55.702Z"
   },
   {
    "duration": 142,
    "start_time": "2023-08-02T18:37:07.113Z"
   },
   {
    "duration": 144,
    "start_time": "2023-08-02T18:37:17.441Z"
   },
   {
    "duration": 165,
    "start_time": "2023-08-02T18:38:17.992Z"
   },
   {
    "duration": 5,
    "start_time": "2023-08-02T18:38:37.248Z"
   },
   {
    "duration": 93,
    "start_time": "2023-08-02T18:40:23.225Z"
   },
   {
    "duration": 8,
    "start_time": "2023-08-02T18:40:27.024Z"
   },
   {
    "duration": 26,
    "start_time": "2023-08-02T20:57:28.939Z"
   },
   {
    "duration": 419,
    "start_time": "2023-08-02T21:15:01.564Z"
   },
   {
    "duration": 9,
    "start_time": "2023-08-02T21:31:19.303Z"
   },
   {
    "duration": 9,
    "start_time": "2023-08-02T21:32:31.897Z"
   },
   {
    "duration": 10,
    "start_time": "2023-08-02T21:32:41.467Z"
   },
   {
    "duration": 3,
    "start_time": "2023-08-02T21:33:50.843Z"
   },
   {
    "duration": 5,
    "start_time": "2023-08-02T21:33:56.537Z"
   },
   {
    "duration": 5,
    "start_time": "2023-08-02T21:34:21.327Z"
   },
   {
    "duration": 5,
    "start_time": "2023-08-02T21:35:16.643Z"
   },
   {
    "duration": 19,
    "start_time": "2023-08-02T21:35:43.875Z"
   },
   {
    "duration": 4,
    "start_time": "2023-08-02T21:36:11.254Z"
   },
   {
    "duration": 4,
    "start_time": "2023-08-02T21:36:46.932Z"
   },
   {
    "duration": 5,
    "start_time": "2023-08-02T21:37:13.658Z"
   },
   {
    "duration": 8,
    "start_time": "2023-08-02T21:37:27.272Z"
   },
   {
    "duration": 8,
    "start_time": "2023-08-02T21:37:30.669Z"
   },
   {
    "duration": 11,
    "start_time": "2023-08-02T21:39:09.694Z"
   },
   {
    "duration": 25,
    "start_time": "2023-08-02T21:41:06.234Z"
   },
   {
    "duration": 3,
    "start_time": "2023-08-02T21:42:09.341Z"
   },
   {
    "duration": 10,
    "start_time": "2023-08-02T21:42:18.790Z"
   },
   {
    "duration": 3,
    "start_time": "2023-08-02T21:42:21.945Z"
   },
   {
    "duration": 25,
    "start_time": "2023-08-02T21:44:25.329Z"
   },
   {
    "duration": 22,
    "start_time": "2023-08-02T21:44:37.542Z"
   },
   {
    "duration": 22,
    "start_time": "2023-08-02T21:45:11.980Z"
   },
   {
    "duration": 13,
    "start_time": "2023-08-02T21:45:27.679Z"
   },
   {
    "duration": 22,
    "start_time": "2023-08-02T21:45:58.090Z"
   },
   {
    "duration": 11,
    "start_time": "2023-08-02T21:47:36.036Z"
   },
   {
    "duration": 13,
    "start_time": "2023-08-02T21:47:43.833Z"
   },
   {
    "duration": 14,
    "start_time": "2023-08-02T21:48:18.546Z"
   },
   {
    "duration": 1031,
    "start_time": "2023-08-02T21:50:14.343Z"
   },
   {
    "duration": 36,
    "start_time": "2023-08-02T21:50:15.375Z"
   },
   {
    "duration": 5,
    "start_time": "2023-08-02T21:50:15.412Z"
   },
   {
    "duration": 9,
    "start_time": "2023-08-02T21:50:15.419Z"
   },
   {
    "duration": 12,
    "start_time": "2023-08-02T21:50:15.430Z"
   },
   {
    "duration": 40,
    "start_time": "2023-08-02T21:50:15.443Z"
   },
   {
    "duration": 13,
    "start_time": "2023-08-02T21:50:15.485Z"
   },
   {
    "duration": 49,
    "start_time": "2023-08-02T21:50:15.500Z"
   },
   {
    "duration": 9,
    "start_time": "2023-08-02T21:50:15.550Z"
   },
   {
    "duration": 36,
    "start_time": "2023-08-02T21:50:15.562Z"
   },
   {
    "duration": 27,
    "start_time": "2023-08-02T21:50:15.600Z"
   },
   {
    "duration": 14,
    "start_time": "2023-08-02T21:50:15.629Z"
   },
   {
    "duration": 11,
    "start_time": "2023-08-02T21:50:15.645Z"
   },
   {
    "duration": 21,
    "start_time": "2023-08-02T21:50:15.657Z"
   },
   {
    "duration": 19,
    "start_time": "2023-08-02T21:50:15.679Z"
   },
   {
    "duration": 19,
    "start_time": "2023-08-02T21:50:15.699Z"
   },
   {
    "duration": 15,
    "start_time": "2023-08-02T21:50:15.720Z"
   },
   {
    "duration": 21,
    "start_time": "2023-08-02T21:50:15.736Z"
   },
   {
    "duration": 9,
    "start_time": "2023-08-02T21:50:15.758Z"
   },
   {
    "duration": 12,
    "start_time": "2023-08-02T21:50:15.768Z"
   },
   {
    "duration": 8,
    "start_time": "2023-08-02T21:50:15.782Z"
   },
   {
    "duration": 156,
    "start_time": "2023-08-02T21:50:15.791Z"
   },
   {
    "duration": 112,
    "start_time": "2023-08-02T21:50:15.948Z"
   },
   {
    "duration": 8,
    "start_time": "2023-08-02T21:50:16.062Z"
   },
   {
    "duration": 20,
    "start_time": "2023-08-02T21:50:16.072Z"
   },
   {
    "duration": 13,
    "start_time": "2023-08-02T21:50:16.094Z"
   },
   {
    "duration": 21,
    "start_time": "2023-08-02T21:50:16.108Z"
   },
   {
    "duration": 15,
    "start_time": "2023-08-02T21:50:16.132Z"
   },
   {
    "duration": 16,
    "start_time": "2023-08-02T21:50:16.148Z"
   },
   {
    "duration": 283,
    "start_time": "2023-08-02T21:50:16.165Z"
   },
   {
    "duration": 203,
    "start_time": "2023-08-02T21:50:16.450Z"
   },
   {
    "duration": 318,
    "start_time": "2023-08-02T21:50:16.655Z"
   },
   {
    "duration": 229,
    "start_time": "2023-08-02T21:50:16.974Z"
   },
   {
    "duration": 363,
    "start_time": "2023-08-02T21:50:17.204Z"
   },
   {
    "duration": 143,
    "start_time": "2023-08-02T21:50:17.568Z"
   },
   {
    "duration": 184,
    "start_time": "2023-08-02T21:50:17.712Z"
   },
   {
    "duration": 5,
    "start_time": "2023-08-02T21:50:17.898Z"
   },
   {
    "duration": 19,
    "start_time": "2023-08-02T21:50:17.905Z"
   },
   {
    "duration": 166,
    "start_time": "2023-08-02T21:50:17.925Z"
   },
   {
    "duration": 227,
    "start_time": "2023-08-02T21:50:18.093Z"
   },
   {
    "duration": 396,
    "start_time": "2023-08-02T21:50:18.321Z"
   },
   {
    "duration": 12,
    "start_time": "2023-08-02T21:50:18.719Z"
   },
   {
    "duration": 29,
    "start_time": "2023-08-02T21:50:18.733Z"
   },
   {
    "duration": 32,
    "start_time": "2023-08-02T21:50:18.763Z"
   },
   {
    "duration": 241,
    "start_time": "2023-08-02T21:50:18.796Z"
   },
   {
    "duration": 126,
    "start_time": "2023-08-02T21:50:19.038Z"
   },
   {
    "duration": 24,
    "start_time": "2023-08-02T21:50:19.165Z"
   },
   {
    "duration": 34,
    "start_time": "2023-08-02T21:50:19.191Z"
   },
   {
    "duration": 20,
    "start_time": "2023-08-02T21:50:19.227Z"
   },
   {
    "duration": 36,
    "start_time": "2023-08-02T21:50:19.249Z"
   },
   {
    "duration": 51,
    "start_time": "2023-08-02T21:50:19.287Z"
   },
   {
    "duration": 48,
    "start_time": "2023-08-02T21:50:19.340Z"
   },
   {
    "duration": 26,
    "start_time": "2023-08-02T21:50:19.390Z"
   },
   {
    "duration": 173,
    "start_time": "2023-08-02T21:54:03.300Z"
   },
   {
    "duration": 146,
    "start_time": "2023-08-02T21:54:10.180Z"
   },
   {
    "duration": 152,
    "start_time": "2023-08-02T21:54:16.191Z"
   },
   {
    "duration": 402,
    "start_time": "2023-08-02T21:54:28.867Z"
   },
   {
    "duration": 1066,
    "start_time": "2023-08-02T21:54:44.712Z"
   },
   {
    "duration": 36,
    "start_time": "2023-08-02T21:54:45.780Z"
   },
   {
    "duration": 4,
    "start_time": "2023-08-02T21:54:45.818Z"
   },
   {
    "duration": 21,
    "start_time": "2023-08-02T21:54:45.824Z"
   },
   {
    "duration": 15,
    "start_time": "2023-08-02T21:54:45.846Z"
   },
   {
    "duration": 30,
    "start_time": "2023-08-02T21:54:45.862Z"
   },
   {
    "duration": 29,
    "start_time": "2023-08-02T21:54:45.894Z"
   },
   {
    "duration": 52,
    "start_time": "2023-08-02T21:54:45.924Z"
   },
   {
    "duration": 10,
    "start_time": "2023-08-02T21:54:45.977Z"
   },
   {
    "duration": 35,
    "start_time": "2023-08-02T21:54:45.989Z"
   },
   {
    "duration": 9,
    "start_time": "2023-08-02T21:54:46.026Z"
   },
   {
    "duration": 8,
    "start_time": "2023-08-02T21:54:46.036Z"
   },
   {
    "duration": 7,
    "start_time": "2023-08-02T21:54:46.045Z"
   },
   {
    "duration": 8,
    "start_time": "2023-08-02T21:54:46.053Z"
   },
   {
    "duration": 6,
    "start_time": "2023-08-02T21:54:46.063Z"
   },
   {
    "duration": 12,
    "start_time": "2023-08-02T21:54:46.070Z"
   },
   {
    "duration": 12,
    "start_time": "2023-08-02T21:54:46.083Z"
   },
   {
    "duration": 5,
    "start_time": "2023-08-02T21:54:46.096Z"
   },
   {
    "duration": 29,
    "start_time": "2023-08-02T21:54:46.103Z"
   },
   {
    "duration": 4,
    "start_time": "2023-08-02T21:54:46.134Z"
   },
   {
    "duration": 16,
    "start_time": "2023-08-02T21:54:46.139Z"
   },
   {
    "duration": 159,
    "start_time": "2023-08-02T21:54:46.157Z"
   },
   {
    "duration": 122,
    "start_time": "2023-08-02T21:54:46.317Z"
   },
   {
    "duration": 9,
    "start_time": "2023-08-02T21:54:46.440Z"
   },
   {
    "duration": 5,
    "start_time": "2023-08-02T21:54:46.450Z"
   },
   {
    "duration": 11,
    "start_time": "2023-08-02T21:54:46.456Z"
   },
   {
    "duration": 7,
    "start_time": "2023-08-02T21:54:46.468Z"
   },
   {
    "duration": 7,
    "start_time": "2023-08-02T21:54:46.478Z"
   },
   {
    "duration": 8,
    "start_time": "2023-08-02T21:54:46.486Z"
   },
   {
    "duration": 290,
    "start_time": "2023-08-02T21:54:46.496Z"
   },
   {
    "duration": 198,
    "start_time": "2023-08-02T21:54:46.788Z"
   },
   {
    "duration": 310,
    "start_time": "2023-08-02T21:54:46.987Z"
   },
   {
    "duration": 235,
    "start_time": "2023-08-02T21:54:47.299Z"
   },
   {
    "duration": 354,
    "start_time": "2023-08-02T21:54:47.536Z"
   },
   {
    "duration": 148,
    "start_time": "2023-08-02T21:54:47.892Z"
   },
   {
    "duration": 167,
    "start_time": "2023-08-02T21:54:48.042Z"
   },
   {
    "duration": 4,
    "start_time": "2023-08-02T21:54:48.211Z"
   },
   {
    "duration": 17,
    "start_time": "2023-08-02T21:54:48.216Z"
   },
   {
    "duration": 162,
    "start_time": "2023-08-02T21:54:48.234Z"
   },
   {
    "duration": 236,
    "start_time": "2023-08-02T21:54:48.397Z"
   },
   {
    "duration": 394,
    "start_time": "2023-08-02T21:54:48.635Z"
   },
   {
    "duration": 6,
    "start_time": "2023-08-02T21:54:49.030Z"
   },
   {
    "duration": 7,
    "start_time": "2023-08-02T21:54:49.037Z"
   },
   {
    "duration": 7,
    "start_time": "2023-08-02T21:54:49.045Z"
   },
   {
    "duration": 240,
    "start_time": "2023-08-02T21:54:49.053Z"
   },
   {
    "duration": 130,
    "start_time": "2023-08-02T21:54:49.295Z"
   },
   {
    "duration": 25,
    "start_time": "2023-08-02T21:54:49.427Z"
   },
   {
    "duration": 102,
    "start_time": "2023-08-02T21:54:49.454Z"
   },
   {
    "duration": 47,
    "start_time": "2023-08-02T21:54:49.557Z"
   },
   {
    "duration": 35,
    "start_time": "2023-08-02T21:54:49.606Z"
   },
   {
    "duration": 29,
    "start_time": "2023-08-02T21:54:49.643Z"
   },
   {
    "duration": 23,
    "start_time": "2023-08-02T21:54:49.673Z"
   },
   {
    "duration": 15,
    "start_time": "2023-08-02T21:54:49.698Z"
   },
   {
    "duration": 1306,
    "start_time": "2023-08-03T04:00:20.547Z"
   },
   {
    "duration": 80,
    "start_time": "2023-08-03T04:00:21.855Z"
   },
   {
    "duration": 5,
    "start_time": "2023-08-03T04:00:21.937Z"
   },
   {
    "duration": 15,
    "start_time": "2023-08-03T04:00:21.944Z"
   },
   {
    "duration": 25,
    "start_time": "2023-08-03T04:00:21.961Z"
   },
   {
    "duration": 12,
    "start_time": "2023-08-03T04:00:21.988Z"
   },
   {
    "duration": 11,
    "start_time": "2023-08-03T04:00:22.002Z"
   },
   {
    "duration": 101,
    "start_time": "2023-08-03T04:00:22.014Z"
   },
   {
    "duration": 12,
    "start_time": "2023-08-03T04:00:22.116Z"
   },
   {
    "duration": 72,
    "start_time": "2023-08-03T04:00:22.131Z"
   },
   {
    "duration": 11,
    "start_time": "2023-08-03T04:00:22.205Z"
   },
   {
    "duration": 25,
    "start_time": "2023-08-03T04:00:22.217Z"
   },
   {
    "duration": 14,
    "start_time": "2023-08-03T04:00:22.244Z"
   },
   {
    "duration": 12,
    "start_time": "2023-08-03T04:00:22.259Z"
   },
   {
    "duration": 11,
    "start_time": "2023-08-03T04:00:22.272Z"
   },
   {
    "duration": 16,
    "start_time": "2023-08-03T04:00:22.285Z"
   },
   {
    "duration": 20,
    "start_time": "2023-08-03T04:00:22.303Z"
   },
   {
    "duration": 12,
    "start_time": "2023-08-03T04:00:22.325Z"
   },
   {
    "duration": 10,
    "start_time": "2023-08-03T04:00:22.338Z"
   },
   {
    "duration": 11,
    "start_time": "2023-08-03T04:00:22.350Z"
   },
   {
    "duration": 6,
    "start_time": "2023-08-03T04:00:22.362Z"
   },
   {
    "duration": 171,
    "start_time": "2023-08-03T04:00:22.369Z"
   },
   {
    "duration": 121,
    "start_time": "2023-08-03T04:00:22.542Z"
   },
   {
    "duration": 9,
    "start_time": "2023-08-03T04:00:22.664Z"
   },
   {
    "duration": 7,
    "start_time": "2023-08-03T04:00:22.687Z"
   },
   {
    "duration": 6,
    "start_time": "2023-08-03T04:00:22.696Z"
   },
   {
    "duration": 15,
    "start_time": "2023-08-03T04:00:22.704Z"
   },
   {
    "duration": 16,
    "start_time": "2023-08-03T04:00:22.723Z"
   },
   {
    "duration": 9,
    "start_time": "2023-08-03T04:00:22.740Z"
   },
   {
    "duration": 296,
    "start_time": "2023-08-03T04:00:22.750Z"
   },
   {
    "duration": 222,
    "start_time": "2023-08-03T04:00:23.048Z"
   },
   {
    "duration": 406,
    "start_time": "2023-08-03T04:00:23.271Z"
   },
   {
    "duration": 250,
    "start_time": "2023-08-03T04:00:23.678Z"
   },
   {
    "duration": 345,
    "start_time": "2023-08-03T04:00:23.930Z"
   },
   {
    "duration": 161,
    "start_time": "2023-08-03T04:00:24.277Z"
   },
   {
    "duration": 192,
    "start_time": "2023-08-03T04:00:24.440Z"
   },
   {
    "duration": 5,
    "start_time": "2023-08-03T04:00:24.634Z"
   },
   {
    "duration": 17,
    "start_time": "2023-08-03T04:00:24.640Z"
   },
   {
    "duration": 225,
    "start_time": "2023-08-03T04:00:24.659Z"
   },
   {
    "duration": 260,
    "start_time": "2023-08-03T04:00:24.887Z"
   },
   {
    "duration": 445,
    "start_time": "2023-08-03T04:00:25.149Z"
   },
   {
    "duration": 5,
    "start_time": "2023-08-03T04:00:25.596Z"
   },
   {
    "duration": 18,
    "start_time": "2023-08-03T04:00:25.603Z"
   },
   {
    "duration": 19,
    "start_time": "2023-08-03T04:00:25.623Z"
   },
   {
    "duration": 234,
    "start_time": "2023-08-03T04:00:25.644Z"
   },
   {
    "duration": 157,
    "start_time": "2023-08-03T04:00:25.880Z"
   },
   {
    "duration": 27,
    "start_time": "2023-08-03T04:00:26.039Z"
   },
   {
    "duration": 26,
    "start_time": "2023-08-03T04:00:26.067Z"
   },
   {
    "duration": 24,
    "start_time": "2023-08-03T04:00:26.094Z"
   },
   {
    "duration": 13,
    "start_time": "2023-08-03T04:00:26.119Z"
   },
   {
    "duration": 33,
    "start_time": "2023-08-03T04:00:26.134Z"
   },
   {
    "duration": 35,
    "start_time": "2023-08-03T04:00:26.169Z"
   },
   {
    "duration": 14,
    "start_time": "2023-08-03T04:00:26.206Z"
   }
  ],
  "kernelspec": {
   "display_name": "Python 3 (ipykernel)",
   "language": "python",
   "name": "python3"
  },
  "language_info": {
   "codemirror_mode": {
    "name": "ipython",
    "version": 3
   },
   "file_extension": ".py",
   "mimetype": "text/x-python",
   "name": "python",
   "nbconvert_exporter": "python",
   "pygments_lexer": "ipython3",
   "version": "3.11.5"
  },
  "toc": {
   "base_numbering": 1,
   "nav_menu": {},
   "number_sections": true,
   "sideBar": true,
   "skip_h1_title": true,
   "title_cell": "Table of Contents",
   "title_sidebar": "Contents",
   "toc_cell": false,
   "toc_position": {},
   "toc_section_display": true,
   "toc_window_display": false
  }
 },
 "nbformat": 4,
 "nbformat_minor": 2
}
